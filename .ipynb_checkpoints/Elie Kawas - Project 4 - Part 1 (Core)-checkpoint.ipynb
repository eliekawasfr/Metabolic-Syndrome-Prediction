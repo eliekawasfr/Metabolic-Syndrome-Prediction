{
 "cells": [
  {
   "cell_type": "markdown",
   "id": "bdf78d8e-30bf-41ad-98c5-140715f1603c",
   "metadata": {
    "jp-MarkdownHeadingCollapsed": true
   },
   "source": [
    "# Imports"
   ]
  },
  {
   "cell_type": "code",
   "execution_count": 4,
   "id": "7e38c81a-6e0a-4267-898c-a150b46a27e8",
   "metadata": {},
   "outputs": [],
   "source": [
    "import numpy as np\n",
    "import matplotlib.pyplot as plt\n",
    "import pandas as pd\n",
    "import seaborn as sns\n",
    "from sklearn.preprocessing import LabelEncoder, StandardScaler\n",
    "from sklearn.model_selection import train_test_split\n",
    "from sklearn.decomposition import PCA\n",
    "from sklearn.linear_model import LogisticRegression\n",
    "from sklearn.ensemble import RandomForestClassifier\n",
    "from sklearn.pipeline import Pipeline, make_pipeline\n",
    "\n",
    "pd.set_option('display.max_columns',200)\n",
    "pd.set_option(\"display.max_info_rows\", 800)\n",
    "pd.set_option('display.max_info_columns',800)\n",
    "\n",
    "from sklearn import set_config\n",
    "set_config(transform_output='pandas')\n",
    "\n",
    "\n",
    "import warnings\n",
    "warnings.filterwarnings(\"ignore\")\n",
    "\n",
    "\n",
    "\n",
    "from sklearn.compose import ColumnTransformer, make_column_selector\n",
    "from sklearn.preprocessing import StandardScaler, OneHotEncoder, OrdinalEncoder\n",
    "from sklearn.impute import SimpleImputer"
   ]
  },
  {
   "cell_type": "code",
   "execution_count": 5,
   "id": "e31861de-e319-4400-ba75-981d003d7718",
   "metadata": {},
   "outputs": [],
   "source": [
    "from sklearn.metrics import classification_report, ConfusionMatrixDisplay\n",
    "import matplotlib.pyplot as plt\n",
    "\n",
    "def classification_metrics(y_true, y_pred, label='',\n",
    "                           output_dict=False, figsize=(8,4),\n",
    "                           normalize='true', cmap='Blues',\n",
    "                           colorbar=False):\n",
    "    # Get the classification report\n",
    "    report = classification_report(y_true, y_pred)\n",
    "    ## Print header and report\n",
    "    header = \"-\"*70\n",
    "    print(header, f\" Classification Metrics: {label}\", header, sep='\\n')\n",
    "    print(report)\n",
    "    ## CONFUSION MATRICES SUBPLOTS\n",
    "    fig, axes = plt.subplots(ncols=2, figsize=figsize)\n",
    "    # create a confusion matrix  of raw counts\n",
    "    ConfusionMatrixDisplay.from_predictions(y_true, y_pred,\n",
    "                normalize=None, cmap='gist_gray', colorbar=colorbar,\n",
    "                ax = axes[0],);\n",
    "    axes[0].set_title(\"Raw Counts\")\n",
    "    # create a confusion matrix with the test data\n",
    "    ConfusionMatrixDisplay.from_predictions(y_true, y_pred,\n",
    "                normalize=normalize, cmap=cmap, colorbar=colorbar,\n",
    "                ax = axes[1]);\n",
    "    axes[1].set_title(\"Normalized Confusion Matrix\")\n",
    "    # Adjust layout and show figure\n",
    "    fig.tight_layout()\n",
    "    plt.show()\n",
    "    # Return dictionary of classification_report\n",
    "    if output_dict==True:\n",
    "        report_dict = classification_report(y_true, y_pred, output_dict=True)\n",
    "        return report_dict\n",
    "\n",
    "\n",
    "def evaluate_classification(model, X_train, y_train, X_test, y_test,\n",
    "                         figsize=(6,4), normalize='true', output_dict = False,\n",
    "                            cmap_train='Blues', cmap_test=\"Reds\",colorbar=False):\n",
    "    # Get predictions for training data\n",
    "    y_train_pred = model.predict(X_train)\n",
    "    # Call the helper function to obtain regression metrics for training data\n",
    "    results_train = classification_metrics(y_train, y_train_pred, #verbose = verbose,\n",
    "                                     output_dict=True, figsize=figsize,\n",
    "                                         colorbar=colorbar, cmap=cmap_train,\n",
    "                                     label='Training Data')\n",
    "    print()\n",
    "    # Get predictions for test data\n",
    "    y_test_pred = model.predict(X_test)\n",
    "    # Call the helper function to obtain regression metrics for test data\n",
    "    results_test = classification_metrics(y_test, y_test_pred, #verbose = verbose,\n",
    "                                  output_dict=True,figsize=figsize,\n",
    "                                         colorbar=colorbar, cmap=cmap_test,\n",
    "                                    label='Test Data' )\n",
    "    if output_dict == True:\n",
    "        # Store results in a dataframe if ouput_frame is True\n",
    "        results_dict = {'train':results_train,\n",
    "                    'test': results_test}\n",
    "        return results_dict"
   ]
  },
  {
   "cell_type": "markdown",
   "id": "789ce82e-0047-4390-a1c0-2bef341d7ccf",
   "metadata": {
    "jp-MarkdownHeadingCollapsed": true
   },
   "source": [
    "# Loading data "
   ]
  },
  {
   "cell_type": "code",
   "execution_count": 6,
   "id": "72ef34f3-4cba-45e1-9202-a8d282e7f5c4",
   "metadata": {},
   "outputs": [
    {
     "data": {
      "text/html": [
       "<div>\n",
       "<style scoped>\n",
       "    .dataframe tbody tr th:only-of-type {\n",
       "        vertical-align: middle;\n",
       "    }\n",
       "\n",
       "    .dataframe tbody tr th {\n",
       "        vertical-align: top;\n",
       "    }\n",
       "\n",
       "    .dataframe thead th {\n",
       "        text-align: right;\n",
       "    }\n",
       "</style>\n",
       "<table border=\"1\" class=\"dataframe\">\n",
       "  <thead>\n",
       "    <tr style=\"text-align: right;\">\n",
       "      <th></th>\n",
       "      <th>seqn</th>\n",
       "      <th>Age</th>\n",
       "      <th>Sex</th>\n",
       "      <th>Marital</th>\n",
       "      <th>Income</th>\n",
       "      <th>Race</th>\n",
       "      <th>WaistCirc</th>\n",
       "      <th>BMI</th>\n",
       "      <th>Albuminuria</th>\n",
       "      <th>UrAlbCr</th>\n",
       "      <th>UricAcid</th>\n",
       "      <th>BloodGlucose</th>\n",
       "      <th>HDL</th>\n",
       "      <th>Triglycerides</th>\n",
       "      <th>MetabolicSyndrome</th>\n",
       "    </tr>\n",
       "  </thead>\n",
       "  <tbody>\n",
       "    <tr>\n",
       "      <th>0</th>\n",
       "      <td>62161</td>\n",
       "      <td>22</td>\n",
       "      <td>Male</td>\n",
       "      <td>Single</td>\n",
       "      <td>8200.0</td>\n",
       "      <td>White</td>\n",
       "      <td>81.0</td>\n",
       "      <td>23.3</td>\n",
       "      <td>0</td>\n",
       "      <td>3.88</td>\n",
       "      <td>4.9</td>\n",
       "      <td>92</td>\n",
       "      <td>41</td>\n",
       "      <td>84</td>\n",
       "      <td>No MetSyn</td>\n",
       "    </tr>\n",
       "    <tr>\n",
       "      <th>1</th>\n",
       "      <td>62164</td>\n",
       "      <td>44</td>\n",
       "      <td>Female</td>\n",
       "      <td>Married</td>\n",
       "      <td>4500.0</td>\n",
       "      <td>White</td>\n",
       "      <td>80.1</td>\n",
       "      <td>23.2</td>\n",
       "      <td>0</td>\n",
       "      <td>8.55</td>\n",
       "      <td>4.5</td>\n",
       "      <td>82</td>\n",
       "      <td>28</td>\n",
       "      <td>56</td>\n",
       "      <td>No MetSyn</td>\n",
       "    </tr>\n",
       "    <tr>\n",
       "      <th>2</th>\n",
       "      <td>62169</td>\n",
       "      <td>21</td>\n",
       "      <td>Male</td>\n",
       "      <td>Single</td>\n",
       "      <td>800.0</td>\n",
       "      <td>Asian</td>\n",
       "      <td>69.6</td>\n",
       "      <td>20.1</td>\n",
       "      <td>0</td>\n",
       "      <td>5.07</td>\n",
       "      <td>5.4</td>\n",
       "      <td>107</td>\n",
       "      <td>43</td>\n",
       "      <td>78</td>\n",
       "      <td>No MetSyn</td>\n",
       "    </tr>\n",
       "    <tr>\n",
       "      <th>3</th>\n",
       "      <td>62172</td>\n",
       "      <td>43</td>\n",
       "      <td>Female</td>\n",
       "      <td>Single</td>\n",
       "      <td>2000.0</td>\n",
       "      <td>Black</td>\n",
       "      <td>120.4</td>\n",
       "      <td>33.3</td>\n",
       "      <td>0</td>\n",
       "      <td>5.22</td>\n",
       "      <td>5.0</td>\n",
       "      <td>104</td>\n",
       "      <td>73</td>\n",
       "      <td>141</td>\n",
       "      <td>No MetSyn</td>\n",
       "    </tr>\n",
       "    <tr>\n",
       "      <th>4</th>\n",
       "      <td>62177</td>\n",
       "      <td>51</td>\n",
       "      <td>Male</td>\n",
       "      <td>Married</td>\n",
       "      <td>NaN</td>\n",
       "      <td>Asian</td>\n",
       "      <td>81.1</td>\n",
       "      <td>20.1</td>\n",
       "      <td>0</td>\n",
       "      <td>8.13</td>\n",
       "      <td>5.0</td>\n",
       "      <td>95</td>\n",
       "      <td>43</td>\n",
       "      <td>126</td>\n",
       "      <td>No MetSyn</td>\n",
       "    </tr>\n",
       "  </tbody>\n",
       "</table>\n",
       "</div>"
      ],
      "text/plain": [
       "    seqn  Age     Sex  Marital  Income   Race  WaistCirc   BMI  Albuminuria  \\\n",
       "0  62161   22    Male   Single  8200.0  White       81.0  23.3            0   \n",
       "1  62164   44  Female  Married  4500.0  White       80.1  23.2            0   \n",
       "2  62169   21    Male   Single   800.0  Asian       69.6  20.1            0   \n",
       "3  62172   43  Female   Single  2000.0  Black      120.4  33.3            0   \n",
       "4  62177   51    Male  Married     NaN  Asian       81.1  20.1            0   \n",
       "\n",
       "   UrAlbCr  UricAcid  BloodGlucose  HDL  Triglycerides MetabolicSyndrome  \n",
       "0     3.88       4.9            92   41             84         No MetSyn  \n",
       "1     8.55       4.5            82   28             56         No MetSyn  \n",
       "2     5.07       5.4           107   43             78         No MetSyn  \n",
       "3     5.22       5.0           104   73            141         No MetSyn  \n",
       "4     8.13       5.0            95   43            126         No MetSyn  "
      ]
     },
     "execution_count": 6,
     "metadata": {},
     "output_type": "execute_result"
    }
   ],
   "source": [
    "# Get Data\n",
    "df = pd.read_csv('Metabolic  Syndrome.csv')\n",
    "df.head()"
   ]
  },
  {
   "cell_type": "markdown",
   "id": "b033e3b8-ede8-43b2-94c9-7f984c0efa14",
   "metadata": {
    "jp-MarkdownHeadingCollapsed": true
   },
   "source": [
    "# Explore Data"
   ]
  },
  {
   "cell_type": "code",
   "execution_count": 7,
   "id": "e5b42578-2345-4722-aef3-f97c12b94b45",
   "metadata": {},
   "outputs": [
    {
     "name": "stdout",
     "output_type": "stream",
     "text": [
      "<class 'pandas.core.frame.DataFrame'>\n",
      "RangeIndex: 2401 entries, 0 to 2400\n",
      "Data columns (total 15 columns):\n",
      " #   Column             Dtype  \n",
      "---  ------             -----  \n",
      " 0   seqn               int64  \n",
      " 1   Age                int64  \n",
      " 2   Sex                object \n",
      " 3   Marital            object \n",
      " 4   Income             float64\n",
      " 5   Race               object \n",
      " 6   WaistCirc          float64\n",
      " 7   BMI                float64\n",
      " 8   Albuminuria        int64  \n",
      " 9   UrAlbCr            float64\n",
      " 10  UricAcid           float64\n",
      " 11  BloodGlucose       int64  \n",
      " 12  HDL                int64  \n",
      " 13  Triglycerides      int64  \n",
      " 14  MetabolicSyndrome  object \n",
      "dtypes: float64(5), int64(6), object(4)\n",
      "memory usage: 281.5+ KB\n"
     ]
    }
   ],
   "source": [
    "df.info()"
   ]
  },
  {
   "cell_type": "code",
   "execution_count": 8,
   "id": "49692ff8-5ea3-4578-be2e-45104725f192",
   "metadata": {
    "scrolled": true
   },
   "outputs": [
    {
     "data": {
      "text/plain": [
       "seqn                   0\n",
       "Age                    0\n",
       "Sex                    0\n",
       "Marital              208\n",
       "Income               117\n",
       "Race                   0\n",
       "WaistCirc             85\n",
       "BMI                   26\n",
       "Albuminuria            0\n",
       "UrAlbCr                0\n",
       "UricAcid               0\n",
       "BloodGlucose           0\n",
       "HDL                    0\n",
       "Triglycerides          0\n",
       "MetabolicSyndrome      0\n",
       "dtype: int64"
      ]
     },
     "execution_count": 8,
     "metadata": {},
     "output_type": "execute_result"
    }
   ],
   "source": [
    "df.isna().sum()#.sum()"
   ]
  },
  {
   "cell_type": "code",
   "execution_count": 9,
   "id": "c40349d7-6657-4f32-aa4e-df58f27299fa",
   "metadata": {},
   "outputs": [
    {
     "data": {
      "text/plain": [
       "seqn                 0.000000\n",
       "Age                  0.000000\n",
       "Sex                  0.000000\n",
       "Marital              8.663057\n",
       "Income               4.872970\n",
       "Race                 0.000000\n",
       "WaistCirc            3.540192\n",
       "BMI                  1.082882\n",
       "Albuminuria          0.000000\n",
       "UrAlbCr              0.000000\n",
       "UricAcid             0.000000\n",
       "BloodGlucose         0.000000\n",
       "HDL                  0.000000\n",
       "Triglycerides        0.000000\n",
       "MetabolicSyndrome    0.000000\n",
       "dtype: float64"
      ]
     },
     "execution_count": 9,
     "metadata": {},
     "output_type": "execute_result"
    }
   ],
   "source": [
    "df.isna().sum()/len(df)*100"
   ]
  },
  {
   "cell_type": "code",
   "execution_count": 10,
   "id": "70b82b2f-9345-4fa7-b561-060fe46295ea",
   "metadata": {},
   "outputs": [
    {
     "data": {
      "text/plain": [
       "No MetSyn    65.764265\n",
       "MetSyn       34.235735\n",
       "Name: MetabolicSyndrome, dtype: float64"
      ]
     },
     "execution_count": 10,
     "metadata": {},
     "output_type": "execute_result"
    }
   ],
   "source": [
    "df['MetabolicSyndrome'].value_counts()/len(df)*100"
   ]
  },
  {
   "cell_type": "code",
   "execution_count": 11,
   "id": "c08eef3d-510a-48fa-a9d7-4d630816ef31",
   "metadata": {},
   "outputs": [
    {
     "data": {
      "text/plain": [
       "(2401, 15)"
      ]
     },
     "execution_count": 11,
     "metadata": {},
     "output_type": "execute_result"
    }
   ],
   "source": [
    "df.shape"
   ]
  },
  {
   "cell_type": "markdown",
   "id": "fcf96fde-a5c9-46e5-b859-f6d4dddc09be",
   "metadata": {},
   "source": [
    "---\n",
    "\n",
    "- My Target would be : MetabolicSyndrome\n",
    "- Each Row represents : A Person\n",
    "- Number of Features The Dataframe includes : 15 \n",
    "- Number of Row the Dataframe includes : 2401\n",
    "- The Target's Values are not balanced, we will be using a Balancing method (Smote)\n",
    "- Initially, we will be using all of the 15 features, and test importance later on\n",
    "- we have a total of 436 missing values that we will need to impute during our modeling\n",
    "    \n",
    "---"
   ]
  },
  {
   "cell_type": "markdown",
   "id": "83dbdd9e-8bf2-4e05-b336-7bb74fcef574",
   "metadata": {
    "jp-MarkdownHeadingCollapsed": true
   },
   "source": [
    "# Basic Visualization"
   ]
  },
  {
   "cell_type": "markdown",
   "id": "25a75dcf-c781-41bb-8a88-a48e43e01453",
   "metadata": {
    "jp-MarkdownHeadingCollapsed": true
   },
   "source": [
    "## needed function for visualization"
   ]
  },
  {
   "cell_type": "code",
   "execution_count": 12,
   "id": "9acd2c65-f2d1-44f1-b3e3-abf00ce9676e",
   "metadata": {},
   "outputs": [],
   "source": [
    "# Updating function\n",
    "def plot_categorical_vs_target(df, x, y, figsize=(6,4),\n",
    "                            fillna = True, placeholder = 'MISSING',\n",
    "                            order = None, target_type='reg'):\n",
    "  # Make a copy of the dataframe and fillna\n",
    "  temp_df = df.copy()\n",
    "  # fillna with placeholder\n",
    "  if fillna == True:\n",
    "    temp_df[x] = temp_df[x].fillna(placeholder)\n",
    "  # or drop nulls prevent unwanted 'nan' group in stripplot\n",
    "  else:\n",
    "    temp_df = temp_df.dropna(subset=[x])\n",
    "  # Create the figure and subplots\n",
    "  fig, ax = plt.subplots(figsize=figsize)\n",
    "  # REGRESSION-TARGET PLOT\n",
    "\n",
    "#old function did not have an if statement ---------------------------- to make a histoplot for 'class'\n",
    "\n",
    "  if target_type=='reg': #Added if statement here\n",
    "    # Barplot\n",
    "    sns.barplot(data=temp_df, x=x, y=y, ax=ax, order=order, alpha=0.6,\n",
    "                linewidth=1, edgecolor='black', errorbar=None)\n",
    "    # Boxplot\n",
    "    sns.stripplot(data=temp_df, x=x, y=y, hue=x, ax=ax,\n",
    "                  order=order, hue_order=order, legend=False,\n",
    "                  edgecolor='white', linewidth=0.5,\n",
    "                  size=3,zorder=0)\n",
    "  # CLASSIFICATION-TARGET PLOT # This is the new code for the classification task\n",
    "  elif target_type=='class':\n",
    "    ax = sns.histplot(data=temp_df, hue=y, x=x, stat='percent',  multiple='fill')\n",
    "  # Rotate xlabels\n",
    "  ax.set_xticks(ax.get_xticks()) # Added this to prevent a bug\n",
    "  ax.set_xticklabels(ax.get_xticklabels(), rotation=45, ha='right')\n",
    "  # Add a title\n",
    "  ax.set_title(f\"{x} vs. {y}\")\n",
    "  fig.tight_layout()\n",
    "  return fig, ax\n",
    "\n"
   ]
  },
  {
   "cell_type": "code",
   "execution_count": 13,
   "id": "09139d6c-e27c-49c0-8f53-b9f25607cc8f",
   "metadata": {},
   "outputs": [],
   "source": [
    "# Updating the function\n",
    "def plot_numeric_vs_target(df, x, y, figsize=(6,4),\n",
    "                           target_type='reg', estimator='mean',\n",
    "                           errorbar='ci',sorted=False , ascending=False,\n",
    "                           **kwargs): # kwargs for sns.regplot\n",
    "\n",
    "  nulls = df[[x,y]].isna().sum()\n",
    "  if nulls.sum()>0:\n",
    "    print(f\"- Excluding {nulls.sum()} NaN's\")\n",
    "    # print(nulls)\n",
    "    temp_df = df.dropna(subset=[x,y,])\n",
    "  else:\n",
    "    temp_df = df\n",
    "\n",
    "    \n",
    "  # Create the figure\n",
    "  fig, ax = plt.subplots(figsize=figsize)\n",
    "\n",
    "  # REGRESSION-TARGET PLOT\n",
    "  if 'reg' in target_type:\n",
    "    # Calculate the correlation\n",
    "    corr = df[[x,y]].corr().round(2)\n",
    "    r = corr.loc[x,y]\n",
    "    # Plot the data\n",
    "    scatter_kws={'ec':'white','lw':1,'alpha':0.8}\n",
    "    sns.regplot(data=temp_df, x=x, y=y, ax=ax, scatter_kws=scatter_kws, **kwargs) # Included the new argument within the sns.regplot function\n",
    "    ## Add the title with the correlation\n",
    "    ax.set_title(f\"{x} vs. {y} (r = {r})\")\n",
    "\n",
    "  # CLASSIFICATION-TARGET PLOT\n",
    "  elif 'class' in target_type:\n",
    "\n",
    "    # Sort the groups by median/mean\n",
    "    if sorted == True:\n",
    "\n",
    "      if estimator == 'median':\n",
    "        group_vals = temp_df.groupby(y)[x].median()\n",
    "      elif estimator =='mean':\n",
    "        group_vals = temp_df.groupby(y)[x].mean()\n",
    "\n",
    "      ## Sort values\n",
    "      group_vals = group_vals.sort_values(ascending=ascending)\n",
    "      order = group_vals.index\n",
    "\n",
    "    else:\n",
    "      # Set order to None if not calcualted\n",
    "      order = None\n",
    "\n",
    "\n",
    "    # Left Subplot (barplot)\n",
    "    sns.barplot(data=temp_df, x=y, y=x, order=order,  estimator=estimator,\n",
    "                errorbar=errorbar, ax=ax, **kwargs)\n",
    "\n",
    "    # Add title\n",
    "    ax.set_title(f\"{x} vs. {y}\")\n",
    "\n",
    "    # rotate xaxis labels\n",
    "    ax.set_xticks(ax.get_xticks())\n",
    "    ax.set_xticklabels(ax.get_xticklabels(), rotation=45, ha='right')\n",
    "\n",
    "\n",
    "  # Final Adjustments & return\n",
    "  fig.tight_layout()\n",
    "  fig.show()\n",
    "  return fig, ax\n"
   ]
  },
  {
   "cell_type": "markdown",
   "id": "51e89cae-745e-49d5-943c-a9f47d66ddad",
   "metadata": {},
   "source": [
    "## Visualization"
   ]
  },
  {
   "cell_type": "code",
   "execution_count": 14,
   "id": "5bd1c2fd-6535-4e01-b94c-c778bffe0514",
   "metadata": {},
   "outputs": [
    {
     "data": {
      "text/plain": [
       "(<Figure size 600x400 with 1 Axes>,\n",
       " <Axes: title={'center': 'Marital vs. MetabolicSyndrome'}, xlabel='Marital', ylabel='Percent'>)"
      ]
     },
     "execution_count": 14,
     "metadata": {},
     "output_type": "execute_result"
    },
    {
     "data": {
      "image/png": "[encoded data removed]",
      "text/plain": [
       "<Figure size 600x400 with 1 Axes>"
      ]
     },
     "metadata": {},
     "output_type": "display_data"
    },
    {
     "data": {
      "image/png": "[encoded data removed]",
      "text/plain": [
       "<Figure size 600x400 with 1 Axes>"
      ]
     },
     "metadata": {},
     "output_type": "display_data"
    },
    {
     "data": {
      "image/png": "[encoded data removed]",
      "text/plain": [
       "<Figure size 600x400 with 1 Axes>"
      ]
     },
     "metadata": {},
     "output_type": "display_data"
    }
   ],
   "source": [
    "plot_categorical_vs_target(df, 'Sex', 'MetabolicSyndrome', target_type='class')\n",
    "\n",
    "plot_categorical_vs_target(df, 'Race', 'MetabolicSyndrome', target_type='class')\n",
    "\n",
    "plot_categorical_vs_target(df, 'Marital', 'MetabolicSyndrome', target_type='class')"
   ]
  },
  {
   "cell_type": "markdown",
   "id": "5a7b7e1f-23bf-418d-a707-ed28b63f0442",
   "metadata": {},
   "source": [
    "---\n",
    "\n",
    "- we cannot explore alot from these plots, but from the fight sight we can say that the only statement we can be sure of, is that Asians(race) and single people(martial status) tend to have less probability to have metabolic syndrome than other categories we have in out data\n",
    "\n",
    "\n",
    "---"
   ]
  },
  {
   "cell_type": "code",
   "execution_count": 15,
   "id": "1838c4b2-528d-4093-9e48-0c230b1f5c7d",
   "metadata": {},
   "outputs": [
    {
     "name": "stdout",
     "output_type": "stream",
     "text": [
      "- Excluding 117 NaN's\n",
      "- Excluding 26 NaN's\n"
     ]
    },
    {
     "data": {
      "image/png": "[encoded data removed]",
      "text/plain": [
       "<Figure size 600x400 with 1 Axes>"
      ]
     },
     "metadata": {},
     "output_type": "display_data"
    },
    {
     "data": {
      "image/png": "[encoded data removed]",
      "text/plain": [
       "<Figure size 600x400 with 1 Axes>"
      ]
     },
     "metadata": {},
     "output_type": "display_data"
    },
    {
     "data": {
      "image/png": "[encoded data removed]",
      "text/plain": [
       "<Figure size 600x400 with 1 Axes>"
      ]
     },
     "metadata": {},
     "output_type": "display_data"
    },
    {
     "data": {
      "image/png": "[encoded data removed]",
      "text/plain": [
       "<Figure size 600x400 with 1 Axes>"
      ]
     },
     "metadata": {},
     "output_type": "display_data"
    }
   ],
   "source": [
    "plot_numeric_vs_target(df,'Income','MetabolicSyndrome', target_type='class');\n",
    "plot_numeric_vs_target(df,'Age','MetabolicSyndrome', target_type='class');\n",
    "plot_numeric_vs_target(df,'Triglycerides','MetabolicSyndrome', target_type='class');\n",
    "plot_numeric_vs_target(df,'BMI','MetabolicSyndrome', target_type='class');"
   ]
  },
  {
   "cell_type": "markdown",
   "id": "bc386d46-0037-4d67-82b5-645b8b0b2907",
   "metadata": {},
   "source": [
    "---\n",
    "\n",
    "- from the first glance we can tell from the three examples we've chosen to explore, that higher income, younger people, people with less Triglycerides & people with lower body mass index (BMI) tend to have a lower chance of having metabolic according to this dataset\n",
    "\n",
    "\n",
    "---"
   ]
  },
  {
   "cell_type": "markdown",
   "id": "b064166b-bb78-4ba7-a2aa-a8e627192560",
   "metadata": {},
   "source": [
    "# preprocessing & transforming data"
   ]
  },
  {
   "cell_type": "code",
   "execution_count": 16,
   "id": "debde8f6-4d70-44ed-aeb2-bd57aa266493",
   "metadata": {},
   "outputs": [
    {
     "data": {
      "text/html": [
       "<div>\n",
       "<style scoped>\n",
       "    .dataframe tbody tr th:only-of-type {\n",
       "        vertical-align: middle;\n",
       "    }\n",
       "\n",
       "    .dataframe tbody tr th {\n",
       "        vertical-align: top;\n",
       "    }\n",
       "\n",
       "    .dataframe thead th {\n",
       "        text-align: right;\n",
       "    }\n",
       "</style>\n",
       "<table border=\"1\" class=\"dataframe\">\n",
       "  <thead>\n",
       "    <tr style=\"text-align: right;\">\n",
       "      <th></th>\n",
       "      <th>Age</th>\n",
       "      <th>Sex</th>\n",
       "      <th>Marital</th>\n",
       "      <th>Income</th>\n",
       "      <th>Race</th>\n",
       "      <th>WaistCirc</th>\n",
       "      <th>BMI</th>\n",
       "      <th>Albuminuria</th>\n",
       "      <th>UrAlbCr</th>\n",
       "      <th>UricAcid</th>\n",
       "      <th>BloodGlucose</th>\n",
       "      <th>HDL</th>\n",
       "      <th>Triglycerides</th>\n",
       "      <th>MetabolicSyndrome</th>\n",
       "    </tr>\n",
       "    <tr>\n",
       "      <th>seqn</th>\n",
       "      <th></th>\n",
       "      <th></th>\n",
       "      <th></th>\n",
       "      <th></th>\n",
       "      <th></th>\n",
       "      <th></th>\n",
       "      <th></th>\n",
       "      <th></th>\n",
       "      <th></th>\n",
       "      <th></th>\n",
       "      <th></th>\n",
       "      <th></th>\n",
       "      <th></th>\n",
       "      <th></th>\n",
       "    </tr>\n",
       "  </thead>\n",
       "  <tbody>\n",
       "    <tr>\n",
       "      <th>62161</th>\n",
       "      <td>22</td>\n",
       "      <td>Male</td>\n",
       "      <td>Single</td>\n",
       "      <td>8200.0</td>\n",
       "      <td>White</td>\n",
       "      <td>81.0</td>\n",
       "      <td>23.3</td>\n",
       "      <td>0</td>\n",
       "      <td>3.88</td>\n",
       "      <td>4.9</td>\n",
       "      <td>92</td>\n",
       "      <td>41</td>\n",
       "      <td>84</td>\n",
       "      <td>No MetSyn</td>\n",
       "    </tr>\n",
       "    <tr>\n",
       "      <th>62164</th>\n",
       "      <td>44</td>\n",
       "      <td>Female</td>\n",
       "      <td>Married</td>\n",
       "      <td>4500.0</td>\n",
       "      <td>White</td>\n",
       "      <td>80.1</td>\n",
       "      <td>23.2</td>\n",
       "      <td>0</td>\n",
       "      <td>8.55</td>\n",
       "      <td>4.5</td>\n",
       "      <td>82</td>\n",
       "      <td>28</td>\n",
       "      <td>56</td>\n",
       "      <td>No MetSyn</td>\n",
       "    </tr>\n",
       "    <tr>\n",
       "      <th>62169</th>\n",
       "      <td>21</td>\n",
       "      <td>Male</td>\n",
       "      <td>Single</td>\n",
       "      <td>800.0</td>\n",
       "      <td>Asian</td>\n",
       "      <td>69.6</td>\n",
       "      <td>20.1</td>\n",
       "      <td>0</td>\n",
       "      <td>5.07</td>\n",
       "      <td>5.4</td>\n",
       "      <td>107</td>\n",
       "      <td>43</td>\n",
       "      <td>78</td>\n",
       "      <td>No MetSyn</td>\n",
       "    </tr>\n",
       "    <tr>\n",
       "      <th>62172</th>\n",
       "      <td>43</td>\n",
       "      <td>Female</td>\n",
       "      <td>Single</td>\n",
       "      <td>2000.0</td>\n",
       "      <td>Black</td>\n",
       "      <td>120.4</td>\n",
       "      <td>33.3</td>\n",
       "      <td>0</td>\n",
       "      <td>5.22</td>\n",
       "      <td>5.0</td>\n",
       "      <td>104</td>\n",
       "      <td>73</td>\n",
       "      <td>141</td>\n",
       "      <td>No MetSyn</td>\n",
       "    </tr>\n",
       "    <tr>\n",
       "      <th>62177</th>\n",
       "      <td>51</td>\n",
       "      <td>Male</td>\n",
       "      <td>Married</td>\n",
       "      <td>NaN</td>\n",
       "      <td>Asian</td>\n",
       "      <td>81.1</td>\n",
       "      <td>20.1</td>\n",
       "      <td>0</td>\n",
       "      <td>8.13</td>\n",
       "      <td>5.0</td>\n",
       "      <td>95</td>\n",
       "      <td>43</td>\n",
       "      <td>126</td>\n",
       "      <td>No MetSyn</td>\n",
       "    </tr>\n",
       "  </tbody>\n",
       "</table>\n",
       "</div>"
      ],
      "text/plain": [
       "       Age     Sex  Marital  Income   Race  WaistCirc   BMI  Albuminuria  \\\n",
       "seqn                                                                       \n",
       "62161   22    Male   Single  8200.0  White       81.0  23.3            0   \n",
       "62164   44  Female  Married  4500.0  White       80.1  23.2            0   \n",
       "62169   21    Male   Single   800.0  Asian       69.6  20.1            0   \n",
       "62172   43  Female   Single  2000.0  Black      120.4  33.3            0   \n",
       "62177   51    Male  Married     NaN  Asian       81.1  20.1            0   \n",
       "\n",
       "       UrAlbCr  UricAcid  BloodGlucose  HDL  Triglycerides MetabolicSyndrome  \n",
       "seqn                                                                          \n",
       "62161     3.88       4.9            92   41             84         No MetSyn  \n",
       "62164     8.55       4.5            82   28             56         No MetSyn  \n",
       "62169     5.07       5.4           107   43             78         No MetSyn  \n",
       "62172     5.22       5.0           104   73            141         No MetSyn  \n",
       "62177     8.13       5.0            95   43            126         No MetSyn  "
      ]
     },
     "execution_count": 16,
     "metadata": {},
     "output_type": "execute_result"
    }
   ],
   "source": [
    "df = df.set_index('seqn')\n",
    "df.head()"
   ]
  },
  {
   "cell_type": "code",
   "execution_count": 17,
   "id": "f602a268-18c4-47c0-96a6-9ab9fb4e6119",
   "metadata": {},
   "outputs": [],
   "source": [
    "\n",
    "\n",
    "# Define features and target\n",
    "X = df.drop(columns = 'MetabolicSyndrome')\n",
    "y = df['MetabolicSyndrome']\n",
    "# Train test split\n",
    "X_train, X_test, y_train, y_test = train_test_split(X, y, random_state = 42)"
   ]
  },
  {
   "cell_type": "code",
   "execution_count": 18,
   "id": "9971f798-a873-4884-89f0-bcafddb2a4f3",
   "metadata": {},
   "outputs": [
    {
     "name": "stdout",
     "output_type": "stream",
     "text": [
      "Numeric Columns: Index(['Age', 'Income', 'WaistCirc', 'BMI', 'Albuminuria', 'UrAlbCr',\n",
      "       'UricAcid', 'BloodGlucose', 'HDL', 'Triglycerides'],\n",
      "      dtype='object')\n"
     ]
    }
   ],
   "source": [
    "num_cols = X_train.select_dtypes(\"number\").columns\n",
    "print(\"Numeric Columns:\", num_cols)\n",
    "\n",
    "impute_median = SimpleImputer(strategy='median')\n",
    "scaler = StandardScaler()\n",
    "\n",
    "num_pipe = make_pipeline(impute_median, scaler)\n"
   ]
  },
  {
   "cell_type": "code",
   "execution_count": 19,
   "id": "452098c5-a40d-4102-b231-f7173b2f3211",
   "metadata": {},
   "outputs": [
    {
     "data": {
      "text/plain": [
       "('numeric',\n",
       " Pipeline(steps=[('simpleimputer', SimpleImputer(strategy='median')),\n",
       "                 ('standardscaler', StandardScaler())]),\n",
       " Index(['Age', 'Income', 'WaistCirc', 'BMI', 'Albuminuria', 'UrAlbCr',\n",
       "        'UricAcid', 'BloodGlucose', 'HDL', 'Triglycerides'],\n",
       "       dtype='object'))"
      ]
     },
     "execution_count": 19,
     "metadata": {},
     "output_type": "execute_result"
    }
   ],
   "source": [
    "num_tuple = ('numeric', num_pipe, num_cols)\n",
    "num_tuple\n",
    "\n",
    "# ('title', pipe , cols)"
   ]
  },
  {
   "cell_type": "code",
   "execution_count": 20,
   "id": "24884ad7-f125-4f7e-bf60-5b802ad4f75f",
   "metadata": {},
   "outputs": [
    {
     "name": "stdout",
     "output_type": "stream",
     "text": [
      "OneHotEncoder Columns: <sklearn.compose._column_transformer.make_column_selector object at 0x00000205BECBA470>\n"
     ]
    },
    {
     "data": {
      "text/html": [
       "<style>#sk-container-id-1 {color: black;background-color: white;}#sk-container-id-1 pre{padding: 0;}#sk-container-id-1 div.sk-toggleable {background-color: white;}#sk-container-id-1 label.sk-toggleable__label {cursor: pointer;display: block;width: 100%;margin-bottom: 0;padding: 0.3em;box-sizing: border-box;text-align: center;}#sk-container-id-1 label.sk-toggleable__label-arrow:before {content: \"▸\";float: left;margin-right: 0.25em;color: #696969;}#sk-container-id-1 label.sk-toggleable__label-arrow:hover:before {color: black;}#sk-container-id-1 div.sk-estimator:hover label.sk-toggleable__label-arrow:before {color: black;}#sk-container-id-1 div.sk-toggleable__content {max-height: 0;max-width: 0;overflow: hidden;text-align: left;background-color: #f0f8ff;}#sk-container-id-1 div.sk-toggleable__content pre {margin: 0.2em;color: black;border-radius: 0.25em;background-color: #f0f8ff;}#sk-container-id-1 input.sk-toggleable__control:checked~div.sk-toggleable__content {max-height: 200px;max-width: 100%;overflow: auto;}#sk-container-id-1 input.sk-toggleable__control:checked~label.sk-toggleable__label-arrow:before {content: \"▾\";}#sk-container-id-1 div.sk-estimator input.sk-toggleable__control:checked~label.sk-toggleable__label {background-color: #d4ebff;}#sk-container-id-1 div.sk-label input.sk-toggleable__control:checked~label.sk-toggleable__label {background-color: #d4ebff;}#sk-container-id-1 input.sk-hidden--visually {border: 0;clip: rect(1px 1px 1px 1px);clip: rect(1px, 1px, 1px, 1px);height: 1px;margin: -1px;overflow: hidden;padding: 0;position: absolute;width: 1px;}#sk-container-id-1 div.sk-estimator {font-family: monospace;background-color: #f0f8ff;border: 1px dotted black;border-radius: 0.25em;box-sizing: border-box;margin-bottom: 0.5em;}#sk-container-id-1 div.sk-estimator:hover {background-color: #d4ebff;}#sk-container-id-1 div.sk-parallel-item::after {content: \"\";width: 100%;border-bottom: 1px solid gray;flex-grow: 1;}#sk-container-id-1 div.sk-label:hover label.sk-toggleable__label {background-color: #d4ebff;}#sk-container-id-1 div.sk-serial::before {content: \"\";position: absolute;border-left: 1px solid gray;box-sizing: border-box;top: 0;bottom: 0;left: 50%;z-index: 0;}#sk-container-id-1 div.sk-serial {display: flex;flex-direction: column;align-items: center;background-color: white;padding-right: 0.2em;padding-left: 0.2em;position: relative;}#sk-container-id-1 div.sk-item {position: relative;z-index: 1;}#sk-container-id-1 div.sk-parallel {display: flex;align-items: stretch;justify-content: center;background-color: white;position: relative;}#sk-container-id-1 div.sk-item::before, #sk-container-id-1 div.sk-parallel-item::before {content: \"\";position: absolute;border-left: 1px solid gray;box-sizing: border-box;top: 0;bottom: 0;left: 50%;z-index: -1;}#sk-container-id-1 div.sk-parallel-item {display: flex;flex-direction: column;z-index: 1;position: relative;background-color: white;}#sk-container-id-1 div.sk-parallel-item:first-child::after {align-self: flex-end;width: 50%;}#sk-container-id-1 div.sk-parallel-item:last-child::after {align-self: flex-start;width: 50%;}#sk-container-id-1 div.sk-parallel-item:only-child::after {width: 0;}#sk-container-id-1 div.sk-dashed-wrapped {border: 1px dashed gray;margin: 0 0.4em 0.5em 0.4em;box-sizing: border-box;padding-bottom: 0.4em;background-color: white;}#sk-container-id-1 div.sk-label label {font-family: monospace;font-weight: bold;display: inline-block;line-height: 1.2em;}#sk-container-id-1 div.sk-label-container {text-align: center;}#sk-container-id-1 div.sk-container {/* jupyter's `normalize.less` sets `[hidden] { display: none; }` but bootstrap.min.css set `[hidden] { display: none !important; }` so we also need the `!important` here to be able to override the default hidden behavior on the sphinx rendered scikit-learn.org. See: https://github.com/scikit-learn/scikit-learn/issues/21755 */display: inline-block !important;position: relative;}#sk-container-id-1 div.sk-text-repr-fallback {display: none;}</style><div id=\"sk-container-id-1\" class=\"sk-top-container\"><div class=\"sk-text-repr-fallback\"><pre>Pipeline(steps=[(&#x27;simpleimputer&#x27;, SimpleImputer(strategy=&#x27;most_frequent&#x27;)),\n",
       "                (&#x27;onehotencoder&#x27;, OneHotEncoder(drop=&#x27;first&#x27;, sparse=False))])</pre><b>In a Jupyter environment, please rerun this cell to show the HTML representation or trust the notebook. <br />On GitHub, the HTML representation is unable to render, please try loading this page with nbviewer.org.</b></div><div class=\"sk-container\" hidden><div class=\"sk-item sk-dashed-wrapped\"><div class=\"sk-label-container\"><div class=\"sk-label sk-toggleable\"><input class=\"sk-toggleable__control sk-hidden--visually\" id=\"sk-estimator-id-1\" type=\"checkbox\" ><label for=\"sk-estimator-id-1\" class=\"sk-toggleable__label sk-toggleable__label-arrow\">Pipeline</label><div class=\"sk-toggleable__content\"><pre>Pipeline(steps=[(&#x27;simpleimputer&#x27;, SimpleImputer(strategy=&#x27;most_frequent&#x27;)),\n",
       "                (&#x27;onehotencoder&#x27;, OneHotEncoder(drop=&#x27;first&#x27;, sparse=False))])</pre></div></div></div><div class=\"sk-serial\"><div class=\"sk-item\"><div class=\"sk-estimator sk-toggleable\"><input class=\"sk-toggleable__control sk-hidden--visually\" id=\"sk-estimator-id-2\" type=\"checkbox\" ><label for=\"sk-estimator-id-2\" class=\"sk-toggleable__label sk-toggleable__label-arrow\">SimpleImputer</label><div class=\"sk-toggleable__content\"><pre>SimpleImputer(strategy=&#x27;most_frequent&#x27;)</pre></div></div></div><div class=\"sk-item\"><div class=\"sk-estimator sk-toggleable\"><input class=\"sk-toggleable__control sk-hidden--visually\" id=\"sk-estimator-id-3\" type=\"checkbox\" ><label for=\"sk-estimator-id-3\" class=\"sk-toggleable__label sk-toggleable__label-arrow\">OneHotEncoder</label><div class=\"sk-toggleable__content\"><pre>OneHotEncoder(drop=&#x27;first&#x27;, sparse=False)</pre></div></div></div></div></div></div></div>"
      ],
      "text/plain": [
       "Pipeline(steps=[('simpleimputer', SimpleImputer(strategy='most_frequent')),\n",
       "                ('onehotencoder', OneHotEncoder(drop='first', sparse=False))])"
      ]
     },
     "execution_count": 20,
     "metadata": {},
     "output_type": "execute_result"
    }
   ],
   "source": [
    "ohe_cols = make_column_selector(dtype_include='object')\n",
    "\n",
    "print(\"OneHotEncoder Columns:\", ohe_cols)\n",
    "\n",
    "impute_na = SimpleImputer(strategy='most_frequent')\n",
    "\n",
    "ohe_encoder = OneHotEncoder(drop = 'first', sparse=False)  \n",
    "\n",
    "ohe_pipe = make_pipeline(impute_na, ohe_encoder)\n",
    "ohe_pipe"
   ]
  },
  {
   "cell_type": "code",
   "execution_count": 21,
   "id": "4ca742b6-7e9c-4239-8d0a-0a710104ca60",
   "metadata": {},
   "outputs": [
    {
     "data": {
      "text/plain": [
       "('categorical',\n",
       " Pipeline(steps=[('simpleimputer', SimpleImputer(strategy='most_frequent')),\n",
       "                 ('onehotencoder', OneHotEncoder(drop='first', sparse=False))]),\n",
       " <sklearn.compose._column_transformer.make_column_selector at 0x205becba470>)"
      ]
     },
     "execution_count": 21,
     "metadata": {},
     "output_type": "execute_result"
    }
   ],
   "source": [
    "ohe_tuple = ('categorical', ohe_pipe, ohe_cols)\n",
    "ohe_tuple\n",
    "\n",
    "#title, pipe, cols"
   ]
  },
  {
   "cell_type": "code",
   "execution_count": 22,
   "id": "b6ffe342-981f-4cb2-916a-04a93817fc2f",
   "metadata": {},
   "outputs": [
    {
     "data": {
      "text/html": [
       "<style>#sk-container-id-2 {color: black;background-color: white;}#sk-container-id-2 pre{padding: 0;}#sk-container-id-2 div.sk-toggleable {background-color: white;}#sk-container-id-2 label.sk-toggleable__label {cursor: pointer;display: block;width: 100%;margin-bottom: 0;padding: 0.3em;box-sizing: border-box;text-align: center;}#sk-container-id-2 label.sk-toggleable__label-arrow:before {content: \"▸\";float: left;margin-right: 0.25em;color: #696969;}#sk-container-id-2 label.sk-toggleable__label-arrow:hover:before {color: black;}#sk-container-id-2 div.sk-estimator:hover label.sk-toggleable__label-arrow:before {color: black;}#sk-container-id-2 div.sk-toggleable__content {max-height: 0;max-width: 0;overflow: hidden;text-align: left;background-color: #f0f8ff;}#sk-container-id-2 div.sk-toggleable__content pre {margin: 0.2em;color: black;border-radius: 0.25em;background-color: #f0f8ff;}#sk-container-id-2 input.sk-toggleable__control:checked~div.sk-toggleable__content {max-height: 200px;max-width: 100%;overflow: auto;}#sk-container-id-2 input.sk-toggleable__control:checked~label.sk-toggleable__label-arrow:before {content: \"▾\";}#sk-container-id-2 div.sk-estimator input.sk-toggleable__control:checked~label.sk-toggleable__label {background-color: #d4ebff;}#sk-container-id-2 div.sk-label input.sk-toggleable__control:checked~label.sk-toggleable__label {background-color: #d4ebff;}#sk-container-id-2 input.sk-hidden--visually {border: 0;clip: rect(1px 1px 1px 1px);clip: rect(1px, 1px, 1px, 1px);height: 1px;margin: -1px;overflow: hidden;padding: 0;position: absolute;width: 1px;}#sk-container-id-2 div.sk-estimator {font-family: monospace;background-color: #f0f8ff;border: 1px dotted black;border-radius: 0.25em;box-sizing: border-box;margin-bottom: 0.5em;}#sk-container-id-2 div.sk-estimator:hover {background-color: #d4ebff;}#sk-container-id-2 div.sk-parallel-item::after {content: \"\";width: 100%;border-bottom: 1px solid gray;flex-grow: 1;}#sk-container-id-2 div.sk-label:hover label.sk-toggleable__label {background-color: #d4ebff;}#sk-container-id-2 div.sk-serial::before {content: \"\";position: absolute;border-left: 1px solid gray;box-sizing: border-box;top: 0;bottom: 0;left: 50%;z-index: 0;}#sk-container-id-2 div.sk-serial {display: flex;flex-direction: column;align-items: center;background-color: white;padding-right: 0.2em;padding-left: 0.2em;position: relative;}#sk-container-id-2 div.sk-item {position: relative;z-index: 1;}#sk-container-id-2 div.sk-parallel {display: flex;align-items: stretch;justify-content: center;background-color: white;position: relative;}#sk-container-id-2 div.sk-item::before, #sk-container-id-2 div.sk-parallel-item::before {content: \"\";position: absolute;border-left: 1px solid gray;box-sizing: border-box;top: 0;bottom: 0;left: 50%;z-index: -1;}#sk-container-id-2 div.sk-parallel-item {display: flex;flex-direction: column;z-index: 1;position: relative;background-color: white;}#sk-container-id-2 div.sk-parallel-item:first-child::after {align-self: flex-end;width: 50%;}#sk-container-id-2 div.sk-parallel-item:last-child::after {align-self: flex-start;width: 50%;}#sk-container-id-2 div.sk-parallel-item:only-child::after {width: 0;}#sk-container-id-2 div.sk-dashed-wrapped {border: 1px dashed gray;margin: 0 0.4em 0.5em 0.4em;box-sizing: border-box;padding-bottom: 0.4em;background-color: white;}#sk-container-id-2 div.sk-label label {font-family: monospace;font-weight: bold;display: inline-block;line-height: 1.2em;}#sk-container-id-2 div.sk-label-container {text-align: center;}#sk-container-id-2 div.sk-container {/* jupyter's `normalize.less` sets `[hidden] { display: none; }` but bootstrap.min.css set `[hidden] { display: none !important; }` so we also need the `!important` here to be able to override the default hidden behavior on the sphinx rendered scikit-learn.org. See: https://github.com/scikit-learn/scikit-learn/issues/21755 */display: inline-block !important;position: relative;}#sk-container-id-2 div.sk-text-repr-fallback {display: none;}</style><div id=\"sk-container-id-2\" class=\"sk-top-container\"><div class=\"sk-text-repr-fallback\"><pre>ColumnTransformer(transformers=[(&#x27;numeric&#x27;,\n",
       "                                 Pipeline(steps=[(&#x27;simpleimputer&#x27;,\n",
       "                                                  SimpleImputer(strategy=&#x27;median&#x27;)),\n",
       "                                                 (&#x27;standardscaler&#x27;,\n",
       "                                                  StandardScaler())]),\n",
       "                                 Index([&#x27;Age&#x27;, &#x27;Income&#x27;, &#x27;WaistCirc&#x27;, &#x27;BMI&#x27;, &#x27;Albuminuria&#x27;, &#x27;UrAlbCr&#x27;,\n",
       "       &#x27;UricAcid&#x27;, &#x27;BloodGlucose&#x27;, &#x27;HDL&#x27;, &#x27;Triglycerides&#x27;],\n",
       "      dtype=&#x27;object&#x27;)),\n",
       "                                (&#x27;categorical&#x27;,\n",
       "                                 Pipeline(steps=[(&#x27;simpleimputer&#x27;,\n",
       "                                                  SimpleImputer(strategy=&#x27;most_frequent&#x27;)),\n",
       "                                                 (&#x27;onehotencoder&#x27;,\n",
       "                                                  OneHotEncoder(drop=&#x27;first&#x27;,\n",
       "                                                                sparse=False))]),\n",
       "                                 &lt;sklearn.compose._column_transformer.make_column_selector object at 0x00000205BECBA470&gt;)],\n",
       "                  verbose_feature_names_out=False)</pre><b>In a Jupyter environment, please rerun this cell to show the HTML representation or trust the notebook. <br />On GitHub, the HTML representation is unable to render, please try loading this page with nbviewer.org.</b></div><div class=\"sk-container\" hidden><div class=\"sk-item sk-dashed-wrapped\"><div class=\"sk-label-container\"><div class=\"sk-label sk-toggleable\"><input class=\"sk-toggleable__control sk-hidden--visually\" id=\"sk-estimator-id-4\" type=\"checkbox\" ><label for=\"sk-estimator-id-4\" class=\"sk-toggleable__label sk-toggleable__label-arrow\">ColumnTransformer</label><div class=\"sk-toggleable__content\"><pre>ColumnTransformer(transformers=[(&#x27;numeric&#x27;,\n",
       "                                 Pipeline(steps=[(&#x27;simpleimputer&#x27;,\n",
       "                                                  SimpleImputer(strategy=&#x27;median&#x27;)),\n",
       "                                                 (&#x27;standardscaler&#x27;,\n",
       "                                                  StandardScaler())]),\n",
       "                                 Index([&#x27;Age&#x27;, &#x27;Income&#x27;, &#x27;WaistCirc&#x27;, &#x27;BMI&#x27;, &#x27;Albuminuria&#x27;, &#x27;UrAlbCr&#x27;,\n",
       "       &#x27;UricAcid&#x27;, &#x27;BloodGlucose&#x27;, &#x27;HDL&#x27;, &#x27;Triglycerides&#x27;],\n",
       "      dtype=&#x27;object&#x27;)),\n",
       "                                (&#x27;categorical&#x27;,\n",
       "                                 Pipeline(steps=[(&#x27;simpleimputer&#x27;,\n",
       "                                                  SimpleImputer(strategy=&#x27;most_frequent&#x27;)),\n",
       "                                                 (&#x27;onehotencoder&#x27;,\n",
       "                                                  OneHotEncoder(drop=&#x27;first&#x27;,\n",
       "                                                                sparse=False))]),\n",
       "                                 &lt;sklearn.compose._column_transformer.make_column_selector object at 0x00000205BECBA470&gt;)],\n",
       "                  verbose_feature_names_out=False)</pre></div></div></div><div class=\"sk-parallel\"><div class=\"sk-parallel-item\"><div class=\"sk-item\"><div class=\"sk-label-container\"><div class=\"sk-label sk-toggleable\"><input class=\"sk-toggleable__control sk-hidden--visually\" id=\"sk-estimator-id-5\" type=\"checkbox\" ><label for=\"sk-estimator-id-5\" class=\"sk-toggleable__label sk-toggleable__label-arrow\">numeric</label><div class=\"sk-toggleable__content\"><pre>Index([&#x27;Age&#x27;, &#x27;Income&#x27;, &#x27;WaistCirc&#x27;, &#x27;BMI&#x27;, &#x27;Albuminuria&#x27;, &#x27;UrAlbCr&#x27;,\n",
       "       &#x27;UricAcid&#x27;, &#x27;BloodGlucose&#x27;, &#x27;HDL&#x27;, &#x27;Triglycerides&#x27;],\n",
       "      dtype=&#x27;object&#x27;)</pre></div></div></div><div class=\"sk-serial\"><div class=\"sk-item\"><div class=\"sk-serial\"><div class=\"sk-item\"><div class=\"sk-estimator sk-toggleable\"><input class=\"sk-toggleable__control sk-hidden--visually\" id=\"sk-estimator-id-6\" type=\"checkbox\" ><label for=\"sk-estimator-id-6\" class=\"sk-toggleable__label sk-toggleable__label-arrow\">SimpleImputer</label><div class=\"sk-toggleable__content\"><pre>SimpleImputer(strategy=&#x27;median&#x27;)</pre></div></div></div><div class=\"sk-item\"><div class=\"sk-estimator sk-toggleable\"><input class=\"sk-toggleable__control sk-hidden--visually\" id=\"sk-estimator-id-7\" type=\"checkbox\" ><label for=\"sk-estimator-id-7\" class=\"sk-toggleable__label sk-toggleable__label-arrow\">StandardScaler</label><div class=\"sk-toggleable__content\"><pre>StandardScaler()</pre></div></div></div></div></div></div></div></div><div class=\"sk-parallel-item\"><div class=\"sk-item\"><div class=\"sk-label-container\"><div class=\"sk-label sk-toggleable\"><input class=\"sk-toggleable__control sk-hidden--visually\" id=\"sk-estimator-id-8\" type=\"checkbox\" ><label for=\"sk-estimator-id-8\" class=\"sk-toggleable__label sk-toggleable__label-arrow\">categorical</label><div class=\"sk-toggleable__content\"><pre>&lt;sklearn.compose._column_transformer.make_column_selector object at 0x00000205BECBA470&gt;</pre></div></div></div><div class=\"sk-serial\"><div class=\"sk-item\"><div class=\"sk-serial\"><div class=\"sk-item\"><div class=\"sk-estimator sk-toggleable\"><input class=\"sk-toggleable__control sk-hidden--visually\" id=\"sk-estimator-id-9\" type=\"checkbox\" ><label for=\"sk-estimator-id-9\" class=\"sk-toggleable__label sk-toggleable__label-arrow\">SimpleImputer</label><div class=\"sk-toggleable__content\"><pre>SimpleImputer(strategy=&#x27;most_frequent&#x27;)</pre></div></div></div><div class=\"sk-item\"><div class=\"sk-estimator sk-toggleable\"><input class=\"sk-toggleable__control sk-hidden--visually\" id=\"sk-estimator-id-10\" type=\"checkbox\" ><label for=\"sk-estimator-id-10\" class=\"sk-toggleable__label sk-toggleable__label-arrow\">OneHotEncoder</label><div class=\"sk-toggleable__content\"><pre>OneHotEncoder(drop=&#x27;first&#x27;, sparse=False)</pre></div></div></div></div></div></div></div></div></div></div></div></div>"
      ],
      "text/plain": [
       "ColumnTransformer(transformers=[('numeric',\n",
       "                                 Pipeline(steps=[('simpleimputer',\n",
       "                                                  SimpleImputer(strategy='median')),\n",
       "                                                 ('standardscaler',\n",
       "                                                  StandardScaler())]),\n",
       "                                 Index(['Age', 'Income', 'WaistCirc', 'BMI', 'Albuminuria', 'UrAlbCr',\n",
       "       'UricAcid', 'BloodGlucose', 'HDL', 'Triglycerides'],\n",
       "      dtype='object')),\n",
       "                                ('categorical',\n",
       "                                 Pipeline(steps=[('simpleimputer',\n",
       "                                                  SimpleImputer(strategy='most_frequent')),\n",
       "                                                 ('onehotencoder',\n",
       "                                                  OneHotEncoder(drop='first',\n",
       "                                                                sparse=False))]),\n",
       "                                 <sklearn.compose._column_transformer.make_column_selector object at 0x00000205BECBA470>)],\n",
       "                  verbose_feature_names_out=False)"
      ]
     },
     "execution_count": 22,
     "metadata": {},
     "output_type": "execute_result"
    }
   ],
   "source": [
    "preprocessor = ColumnTransformer([num_tuple, ohe_tuple], verbose_feature_names_out=False)\n",
    "preprocessor"
   ]
  },
  {
   "cell_type": "code",
   "execution_count": 23,
   "id": "b260f150-62be-49f1-9970-abd956fdd90f",
   "metadata": {},
   "outputs": [
    {
     "data": {
      "text/html": [
       "<div>\n",
       "<style scoped>\n",
       "    .dataframe tbody tr th:only-of-type {\n",
       "        vertical-align: middle;\n",
       "    }\n",
       "\n",
       "    .dataframe tbody tr th {\n",
       "        vertical-align: top;\n",
       "    }\n",
       "\n",
       "    .dataframe thead th {\n",
       "        text-align: right;\n",
       "    }\n",
       "</style>\n",
       "<table border=\"1\" class=\"dataframe\">\n",
       "  <thead>\n",
       "    <tr style=\"text-align: right;\">\n",
       "      <th></th>\n",
       "      <th>Age</th>\n",
       "      <th>Income</th>\n",
       "      <th>WaistCirc</th>\n",
       "      <th>BMI</th>\n",
       "      <th>Albuminuria</th>\n",
       "      <th>UrAlbCr</th>\n",
       "      <th>UricAcid</th>\n",
       "      <th>BloodGlucose</th>\n",
       "      <th>HDL</th>\n",
       "      <th>Triglycerides</th>\n",
       "      <th>Sex_Male</th>\n",
       "      <th>Marital_Married</th>\n",
       "      <th>Marital_Separated</th>\n",
       "      <th>Marital_Single</th>\n",
       "      <th>Marital_Widowed</th>\n",
       "      <th>Race_Black</th>\n",
       "      <th>Race_Hispanic</th>\n",
       "      <th>Race_MexAmerican</th>\n",
       "      <th>Race_Other</th>\n",
       "      <th>Race_White</th>\n",
       "    </tr>\n",
       "    <tr>\n",
       "      <th>seqn</th>\n",
       "      <th></th>\n",
       "      <th></th>\n",
       "      <th></th>\n",
       "      <th></th>\n",
       "      <th></th>\n",
       "      <th></th>\n",
       "      <th></th>\n",
       "      <th></th>\n",
       "      <th></th>\n",
       "      <th></th>\n",
       "      <th></th>\n",
       "      <th></th>\n",
       "      <th></th>\n",
       "      <th></th>\n",
       "      <th></th>\n",
       "      <th></th>\n",
       "      <th></th>\n",
       "      <th></th>\n",
       "      <th></th>\n",
       "      <th></th>\n",
       "    </tr>\n",
       "  </thead>\n",
       "  <tbody>\n",
       "    <tr>\n",
       "      <th>63211</th>\n",
       "      <td>-0.176875</td>\n",
       "      <td>1.443579</td>\n",
       "      <td>1.591313</td>\n",
       "      <td>1.815754</td>\n",
       "      <td>-0.366397</td>\n",
       "      <td>-0.100646</td>\n",
       "      <td>-1.503810</td>\n",
       "      <td>0.962189</td>\n",
       "      <td>-0.045041</td>\n",
       "      <td>0.728110</td>\n",
       "      <td>0.0</td>\n",
       "      <td>1.0</td>\n",
       "      <td>0.0</td>\n",
       "      <td>0.0</td>\n",
       "      <td>0.0</td>\n",
       "      <td>0.0</td>\n",
       "      <td>0.0</td>\n",
       "      <td>0.0</td>\n",
       "      <td>0.0</td>\n",
       "      <td>1.0</td>\n",
       "    </tr>\n",
       "    <tr>\n",
       "      <th>70548</th>\n",
       "      <td>-0.857407</td>\n",
       "      <td>-0.165173</td>\n",
       "      <td>-0.767163</td>\n",
       "      <td>-0.637064</td>\n",
       "      <td>-0.366397</td>\n",
       "      <td>-0.108892</td>\n",
       "      <td>0.406271</td>\n",
       "      <td>0.185052</td>\n",
       "      <td>1.929154</td>\n",
       "      <td>-0.704544</td>\n",
       "      <td>1.0</td>\n",
       "      <td>0.0</td>\n",
       "      <td>1.0</td>\n",
       "      <td>0.0</td>\n",
       "      <td>0.0</td>\n",
       "      <td>0.0</td>\n",
       "      <td>0.0</td>\n",
       "      <td>1.0</td>\n",
       "      <td>0.0</td>\n",
       "      <td>0.0</td>\n",
       "    </tr>\n",
       "    <tr>\n",
       "      <th>64722</th>\n",
       "      <td>-0.914117</td>\n",
       "      <td>-0.165173</td>\n",
       "      <td>-1.465971</td>\n",
       "      <td>-0.561824</td>\n",
       "      <td>-0.366397</td>\n",
       "      <td>-0.125171</td>\n",
       "      <td>-1.435593</td>\n",
       "      <td>-0.323077</td>\n",
       "      <td>-0.637299</td>\n",
       "      <td>-0.704544</td>\n",
       "      <td>0.0</td>\n",
       "      <td>1.0</td>\n",
       "      <td>0.0</td>\n",
       "      <td>0.0</td>\n",
       "      <td>0.0</td>\n",
       "      <td>0.0</td>\n",
       "      <td>0.0</td>\n",
       "      <td>1.0</td>\n",
       "      <td>0.0</td>\n",
       "      <td>0.0</td>\n",
       "    </tr>\n",
       "    <tr>\n",
       "      <th>69237</th>\n",
       "      <td>-0.006742</td>\n",
       "      <td>1.717409</td>\n",
       "      <td>-0.174425</td>\n",
       "      <td>0.687157</td>\n",
       "      <td>-0.366397</td>\n",
       "      <td>-0.152526</td>\n",
       "      <td>-1.913113</td>\n",
       "      <td>-0.562196</td>\n",
       "      <td>-0.176654</td>\n",
       "      <td>0.115599</td>\n",
       "      <td>0.0</td>\n",
       "      <td>1.0</td>\n",
       "      <td>0.0</td>\n",
       "      <td>0.0</td>\n",
       "      <td>0.0</td>\n",
       "      <td>0.0</td>\n",
       "      <td>1.0</td>\n",
       "      <td>0.0</td>\n",
       "      <td>0.0</td>\n",
       "      <td>0.0</td>\n",
       "    </tr>\n",
       "    <tr>\n",
       "      <th>65286</th>\n",
       "      <td>-1.084250</td>\n",
       "      <td>1.717409</td>\n",
       "      <td>-1.422296</td>\n",
       "      <td>-1.028311</td>\n",
       "      <td>-0.366397</td>\n",
       "      <td>-0.138548</td>\n",
       "      <td>1.088443</td>\n",
       "      <td>-0.801315</td>\n",
       "      <td>0.283992</td>\n",
       "      <td>2.762893</td>\n",
       "      <td>1.0</td>\n",
       "      <td>1.0</td>\n",
       "      <td>0.0</td>\n",
       "      <td>0.0</td>\n",
       "      <td>0.0</td>\n",
       "      <td>0.0</td>\n",
       "      <td>0.0</td>\n",
       "      <td>0.0</td>\n",
       "      <td>0.0</td>\n",
       "      <td>0.0</td>\n",
       "    </tr>\n",
       "  </tbody>\n",
       "</table>\n",
       "</div>"
      ],
      "text/plain": [
       "            Age    Income  WaistCirc       BMI  Albuminuria   UrAlbCr  \\\n",
       "seqn                                                                    \n",
       "63211 -0.176875  1.443579   1.591313  1.815754    -0.366397 -0.100646   \n",
       "70548 -0.857407 -0.165173  -0.767163 -0.637064    -0.366397 -0.108892   \n",
       "64722 -0.914117 -0.165173  -1.465971 -0.561824    -0.366397 -0.125171   \n",
       "69237 -0.006742  1.717409  -0.174425  0.687157    -0.366397 -0.152526   \n",
       "65286 -1.084250  1.717409  -1.422296 -1.028311    -0.366397 -0.138548   \n",
       "\n",
       "       UricAcid  BloodGlucose       HDL  Triglycerides  Sex_Male  \\\n",
       "seqn                                                               \n",
       "63211 -1.503810      0.962189 -0.045041       0.728110       0.0   \n",
       "70548  0.406271      0.185052  1.929154      -0.704544       1.0   \n",
       "64722 -1.435593     -0.323077 -0.637299      -0.704544       0.0   \n",
       "69237 -1.913113     -0.562196 -0.176654       0.115599       0.0   \n",
       "65286  1.088443     -0.801315  0.283992       2.762893       1.0   \n",
       "\n",
       "       Marital_Married  Marital_Separated  Marital_Single  Marital_Widowed  \\\n",
       "seqn                                                                         \n",
       "63211              1.0                0.0             0.0              0.0   \n",
       "70548              0.0                1.0             0.0              0.0   \n",
       "64722              1.0                0.0             0.0              0.0   \n",
       "69237              1.0                0.0             0.0              0.0   \n",
       "65286              1.0                0.0             0.0              0.0   \n",
       "\n",
       "       Race_Black  Race_Hispanic  Race_MexAmerican  Race_Other  Race_White  \n",
       "seqn                                                                        \n",
       "63211         0.0            0.0               0.0         0.0         1.0  \n",
       "70548         0.0            0.0               1.0         0.0         0.0  \n",
       "64722         0.0            0.0               1.0         0.0         0.0  \n",
       "69237         0.0            1.0               0.0         0.0         0.0  \n",
       "65286         0.0            0.0               0.0         0.0         0.0  "
      ]
     },
     "execution_count": 23,
     "metadata": {},
     "output_type": "execute_result"
    }
   ],
   "source": [
    "preprocessor.fit(X_train)\n",
    "\n",
    "X_train_tf = preprocessor.transform(X_train)\n",
    "\n",
    "X_test_tf = preprocessor.transform(X_test)\n",
    "\n",
    "X_train_tf.head()"
   ]
  },
  {
   "cell_type": "markdown",
   "id": "6e0431a6-379b-46d9-abf1-fa02cb088336",
   "metadata": {},
   "source": [
    "# Modeling: KNN Classification Model"
   ]
  },
  {
   "cell_type": "markdown",
   "id": "d962ea7b-2f46-4fd0-8d4f-c86e3750bc2d",
   "metadata": {},
   "source": [
    "- Disclaimer: \n",
    "\n",
    "**the best treatment for metabolic syndrom is a healthy diet and exercise, which is the first treatment when the results are ambiguous but also pointing at a probable metabolic syndrome, hense we here are interested in recallability of the model, to get as much true positives and as less false negatives.**\n",
    "\n",
    "\n",
    "---"
   ]
  },
  {
   "cell_type": "code",
   "execution_count": 24,
   "id": "5d36a461-ee5b-4065-a0b7-eb5ac289f34f",
   "metadata": {},
   "outputs": [],
   "source": [
    "from sklearn.neighbors import KNeighborsClassifier\n",
    "from sklearn.model_selection import GridSearchCV\n",
    "from imblearn.over_sampling import SMOTE\n",
    "from imblearn.pipeline import make_pipeline as make_sampler_pipeline\n"
   ]
  },
  {
   "cell_type": "markdown",
   "id": "17a4d591-cd65-4e98-8eb6-f42fd4410407",
   "metadata": {},
   "source": [
    "## KNN default model"
   ]
  },
  {
   "cell_type": "code",
   "execution_count": 25,
   "id": "7b97cbee-2348-439b-917b-3238e394f8f8",
   "metadata": {
    "scrolled": true
   },
   "outputs": [
    {
     "name": "stdout",
     "output_type": "stream",
     "text": [
      "----------------------------------------------------------------------\n",
      " Classification Metrics: Training Data\n",
      "----------------------------------------------------------------------\n",
      "              precision    recall  f1-score   support\n",
      "\n",
      "      MetSyn       0.86      0.75      0.80       618\n",
      "   No MetSyn       0.88      0.93      0.90      1182\n",
      "\n",
      "    accuracy                           0.87      1800\n",
      "   macro avg       0.87      0.84      0.85      1800\n",
      "weighted avg       0.87      0.87      0.87      1800\n",
      "\n"
     ]
    },
    {
     "data": {
      "image/png": "[encoded data removed]",
      "text/plain": [
       "<Figure size 600x400 with 2 Axes>"
      ]
     },
     "metadata": {},
     "output_type": "display_data"
    },
    {
     "name": "stdout",
     "output_type": "stream",
     "text": [
      "\n",
      "----------------------------------------------------------------------\n",
      " Classification Metrics: Test Data\n",
      "----------------------------------------------------------------------\n",
      "              precision    recall  f1-score   support\n",
      "\n",
      "      MetSyn       0.71      0.60      0.65       204\n",
      "   No MetSyn       0.81      0.88      0.84       397\n",
      "\n",
      "    accuracy                           0.78       601\n",
      "   macro avg       0.76      0.74      0.75       601\n",
      "weighted avg       0.78      0.78      0.78       601\n",
      "\n"
     ]
    },
    {
     "data": {
      "image/png": "[encoded data removed]",
      "text/plain": [
       "<Figure size 600x400 with 2 Axes>"
      ]
     },
     "metadata": {},
     "output_type": "display_data"
    }
   ],
   "source": [
    "\n",
    "knn = KNeighborsClassifier()\n",
    "\n",
    "\n",
    "knn_pipe = make_pipeline(preprocessor, knn)\n",
    "\n",
    "knn_pipe.fit(X_train, y_train)\n",
    "\n",
    "\n",
    "evaluate_classification(knn_pipe, X_train, y_train, X_test, y_test)"
   ]
  },
  {
   "cell_type": "code",
   "execution_count": 26,
   "id": "e3180a8c-4f43-44fe-9541-65c2dc1f14e7",
   "metadata": {},
   "outputs": [
    {
     "data": {
      "text/html": [
       "<style>#sk-container-id-3 {color: black;background-color: white;}#sk-container-id-3 pre{padding: 0;}#sk-container-id-3 div.sk-toggleable {background-color: white;}#sk-container-id-3 label.sk-toggleable__label {cursor: pointer;display: block;width: 100%;margin-bottom: 0;padding: 0.3em;box-sizing: border-box;text-align: center;}#sk-container-id-3 label.sk-toggleable__label-arrow:before {content: \"▸\";float: left;margin-right: 0.25em;color: #696969;}#sk-container-id-3 label.sk-toggleable__label-arrow:hover:before {color: black;}#sk-container-id-3 div.sk-estimator:hover label.sk-toggleable__label-arrow:before {color: black;}#sk-container-id-3 div.sk-toggleable__content {max-height: 0;max-width: 0;overflow: hidden;text-align: left;background-color: #f0f8ff;}#sk-container-id-3 div.sk-toggleable__content pre {margin: 0.2em;color: black;border-radius: 0.25em;background-color: #f0f8ff;}#sk-container-id-3 input.sk-toggleable__control:checked~div.sk-toggleable__content {max-height: 200px;max-width: 100%;overflow: auto;}#sk-container-id-3 input.sk-toggleable__control:checked~label.sk-toggleable__label-arrow:before {content: \"▾\";}#sk-container-id-3 div.sk-estimator input.sk-toggleable__control:checked~label.sk-toggleable__label {background-color: #d4ebff;}#sk-container-id-3 div.sk-label input.sk-toggleable__control:checked~label.sk-toggleable__label {background-color: #d4ebff;}#sk-container-id-3 input.sk-hidden--visually {border: 0;clip: rect(1px 1px 1px 1px);clip: rect(1px, 1px, 1px, 1px);height: 1px;margin: -1px;overflow: hidden;padding: 0;position: absolute;width: 1px;}#sk-container-id-3 div.sk-estimator {font-family: monospace;background-color: #f0f8ff;border: 1px dotted black;border-radius: 0.25em;box-sizing: border-box;margin-bottom: 0.5em;}#sk-container-id-3 div.sk-estimator:hover {background-color: #d4ebff;}#sk-container-id-3 div.sk-parallel-item::after {content: \"\";width: 100%;border-bottom: 1px solid gray;flex-grow: 1;}#sk-container-id-3 div.sk-label:hover label.sk-toggleable__label {background-color: #d4ebff;}#sk-container-id-3 div.sk-serial::before {content: \"\";position: absolute;border-left: 1px solid gray;box-sizing: border-box;top: 0;bottom: 0;left: 50%;z-index: 0;}#sk-container-id-3 div.sk-serial {display: flex;flex-direction: column;align-items: center;background-color: white;padding-right: 0.2em;padding-left: 0.2em;position: relative;}#sk-container-id-3 div.sk-item {position: relative;z-index: 1;}#sk-container-id-3 div.sk-parallel {display: flex;align-items: stretch;justify-content: center;background-color: white;position: relative;}#sk-container-id-3 div.sk-item::before, #sk-container-id-3 div.sk-parallel-item::before {content: \"\";position: absolute;border-left: 1px solid gray;box-sizing: border-box;top: 0;bottom: 0;left: 50%;z-index: -1;}#sk-container-id-3 div.sk-parallel-item {display: flex;flex-direction: column;z-index: 1;position: relative;background-color: white;}#sk-container-id-3 div.sk-parallel-item:first-child::after {align-self: flex-end;width: 50%;}#sk-container-id-3 div.sk-parallel-item:last-child::after {align-self: flex-start;width: 50%;}#sk-container-id-3 div.sk-parallel-item:only-child::after {width: 0;}#sk-container-id-3 div.sk-dashed-wrapped {border: 1px dashed gray;margin: 0 0.4em 0.5em 0.4em;box-sizing: border-box;padding-bottom: 0.4em;background-color: white;}#sk-container-id-3 div.sk-label label {font-family: monospace;font-weight: bold;display: inline-block;line-height: 1.2em;}#sk-container-id-3 div.sk-label-container {text-align: center;}#sk-container-id-3 div.sk-container {/* jupyter's `normalize.less` sets `[hidden] { display: none; }` but bootstrap.min.css set `[hidden] { display: none !important; }` so we also need the `!important` here to be able to override the default hidden behavior on the sphinx rendered scikit-learn.org. See: https://github.com/scikit-learn/scikit-learn/issues/21755 */display: inline-block !important;position: relative;}#sk-container-id-3 div.sk-text-repr-fallback {display: none;}</style><div id=\"sk-container-id-3\" class=\"sk-top-container\"><div class=\"sk-text-repr-fallback\"><pre>ColumnTransformer(transformers=[(&#x27;numeric&#x27;,\n",
       "                                 Pipeline(steps=[(&#x27;simpleimputer&#x27;,\n",
       "                                                  SimpleImputer(strategy=&#x27;median&#x27;)),\n",
       "                                                 (&#x27;standardscaler&#x27;,\n",
       "                                                  StandardScaler())]),\n",
       "                                 Index([&#x27;Age&#x27;, &#x27;Income&#x27;, &#x27;WaistCirc&#x27;, &#x27;BMI&#x27;, &#x27;Albuminuria&#x27;, &#x27;UrAlbCr&#x27;,\n",
       "       &#x27;UricAcid&#x27;, &#x27;BloodGlucose&#x27;, &#x27;HDL&#x27;, &#x27;Triglycerides&#x27;],\n",
       "      dtype=&#x27;object&#x27;)),\n",
       "                                (&#x27;categorical&#x27;,\n",
       "                                 Pipeline(steps=[(&#x27;simpleimputer&#x27;,\n",
       "                                                  SimpleImputer(strategy=&#x27;most_frequent&#x27;)),\n",
       "                                                 (&#x27;onehotencoder&#x27;,\n",
       "                                                  OneHotEncoder(drop=&#x27;first&#x27;,\n",
       "                                                                sparse=False))]),\n",
       "                                 &lt;sklearn.compose._column_transformer.make_column_selector object at 0x00000205BECBA470&gt;)],\n",
       "                  verbose_feature_names_out=False)</pre><b>In a Jupyter environment, please rerun this cell to show the HTML representation or trust the notebook. <br />On GitHub, the HTML representation is unable to render, please try loading this page with nbviewer.org.</b></div><div class=\"sk-container\" hidden><div class=\"sk-item sk-dashed-wrapped\"><div class=\"sk-label-container\"><div class=\"sk-label sk-toggleable\"><input class=\"sk-toggleable__control sk-hidden--visually\" id=\"sk-estimator-id-11\" type=\"checkbox\" ><label for=\"sk-estimator-id-11\" class=\"sk-toggleable__label sk-toggleable__label-arrow\">ColumnTransformer</label><div class=\"sk-toggleable__content\"><pre>ColumnTransformer(transformers=[(&#x27;numeric&#x27;,\n",
       "                                 Pipeline(steps=[(&#x27;simpleimputer&#x27;,\n",
       "                                                  SimpleImputer(strategy=&#x27;median&#x27;)),\n",
       "                                                 (&#x27;standardscaler&#x27;,\n",
       "                                                  StandardScaler())]),\n",
       "                                 Index([&#x27;Age&#x27;, &#x27;Income&#x27;, &#x27;WaistCirc&#x27;, &#x27;BMI&#x27;, &#x27;Albuminuria&#x27;, &#x27;UrAlbCr&#x27;,\n",
       "       &#x27;UricAcid&#x27;, &#x27;BloodGlucose&#x27;, &#x27;HDL&#x27;, &#x27;Triglycerides&#x27;],\n",
       "      dtype=&#x27;object&#x27;)),\n",
       "                                (&#x27;categorical&#x27;,\n",
       "                                 Pipeline(steps=[(&#x27;simpleimputer&#x27;,\n",
       "                                                  SimpleImputer(strategy=&#x27;most_frequent&#x27;)),\n",
       "                                                 (&#x27;onehotencoder&#x27;,\n",
       "                                                  OneHotEncoder(drop=&#x27;first&#x27;,\n",
       "                                                                sparse=False))]),\n",
       "                                 &lt;sklearn.compose._column_transformer.make_column_selector object at 0x00000205BECBA470&gt;)],\n",
       "                  verbose_feature_names_out=False)</pre></div></div></div><div class=\"sk-parallel\"><div class=\"sk-parallel-item\"><div class=\"sk-item\"><div class=\"sk-label-container\"><div class=\"sk-label sk-toggleable\"><input class=\"sk-toggleable__control sk-hidden--visually\" id=\"sk-estimator-id-12\" type=\"checkbox\" ><label for=\"sk-estimator-id-12\" class=\"sk-toggleable__label sk-toggleable__label-arrow\">numeric</label><div class=\"sk-toggleable__content\"><pre>Index([&#x27;Age&#x27;, &#x27;Income&#x27;, &#x27;WaistCirc&#x27;, &#x27;BMI&#x27;, &#x27;Albuminuria&#x27;, &#x27;UrAlbCr&#x27;,\n",
       "       &#x27;UricAcid&#x27;, &#x27;BloodGlucose&#x27;, &#x27;HDL&#x27;, &#x27;Triglycerides&#x27;],\n",
       "      dtype=&#x27;object&#x27;)</pre></div></div></div><div class=\"sk-serial\"><div class=\"sk-item\"><div class=\"sk-serial\"><div class=\"sk-item\"><div class=\"sk-estimator sk-toggleable\"><input class=\"sk-toggleable__control sk-hidden--visually\" id=\"sk-estimator-id-13\" type=\"checkbox\" ><label for=\"sk-estimator-id-13\" class=\"sk-toggleable__label sk-toggleable__label-arrow\">SimpleImputer</label><div class=\"sk-toggleable__content\"><pre>SimpleImputer(strategy=&#x27;median&#x27;)</pre></div></div></div><div class=\"sk-item\"><div class=\"sk-estimator sk-toggleable\"><input class=\"sk-toggleable__control sk-hidden--visually\" id=\"sk-estimator-id-14\" type=\"checkbox\" ><label for=\"sk-estimator-id-14\" class=\"sk-toggleable__label sk-toggleable__label-arrow\">StandardScaler</label><div class=\"sk-toggleable__content\"><pre>StandardScaler()</pre></div></div></div></div></div></div></div></div><div class=\"sk-parallel-item\"><div class=\"sk-item\"><div class=\"sk-label-container\"><div class=\"sk-label sk-toggleable\"><input class=\"sk-toggleable__control sk-hidden--visually\" id=\"sk-estimator-id-15\" type=\"checkbox\" ><label for=\"sk-estimator-id-15\" class=\"sk-toggleable__label sk-toggleable__label-arrow\">categorical</label><div class=\"sk-toggleable__content\"><pre>&lt;sklearn.compose._column_transformer.make_column_selector object at 0x00000205BECBA470&gt;</pre></div></div></div><div class=\"sk-serial\"><div class=\"sk-item\"><div class=\"sk-serial\"><div class=\"sk-item\"><div class=\"sk-estimator sk-toggleable\"><input class=\"sk-toggleable__control sk-hidden--visually\" id=\"sk-estimator-id-16\" type=\"checkbox\" ><label for=\"sk-estimator-id-16\" class=\"sk-toggleable__label sk-toggleable__label-arrow\">SimpleImputer</label><div class=\"sk-toggleable__content\"><pre>SimpleImputer(strategy=&#x27;most_frequent&#x27;)</pre></div></div></div><div class=\"sk-item\"><div class=\"sk-estimator sk-toggleable\"><input class=\"sk-toggleable__control sk-hidden--visually\" id=\"sk-estimator-id-17\" type=\"checkbox\" ><label for=\"sk-estimator-id-17\" class=\"sk-toggleable__label sk-toggleable__label-arrow\">OneHotEncoder</label><div class=\"sk-toggleable__content\"><pre>OneHotEncoder(drop=&#x27;first&#x27;, sparse=False)</pre></div></div></div></div></div></div></div></div></div></div></div></div>"
      ],
      "text/plain": [
       "ColumnTransformer(transformers=[('numeric',\n",
       "                                 Pipeline(steps=[('simpleimputer',\n",
       "                                                  SimpleImputer(strategy='median')),\n",
       "                                                 ('standardscaler',\n",
       "                                                  StandardScaler())]),\n",
       "                                 Index(['Age', 'Income', 'WaistCirc', 'BMI', 'Albuminuria', 'UrAlbCr',\n",
       "       'UricAcid', 'BloodGlucose', 'HDL', 'Triglycerides'],\n",
       "      dtype='object')),\n",
       "                                ('categorical',\n",
       "                                 Pipeline(steps=[('simpleimputer',\n",
       "                                                  SimpleImputer(strategy='most_frequent')),\n",
       "                                                 ('onehotencoder',\n",
       "                                                  OneHotEncoder(drop='first',\n",
       "                                                                sparse=False))]),\n",
       "                                 <sklearn.compose._column_transformer.make_column_selector object at 0x00000205BECBA470>)],\n",
       "                  verbose_feature_names_out=False)"
      ]
     },
     "execution_count": 26,
     "metadata": {},
     "output_type": "execute_result"
    }
   ],
   "source": [
    "preprocessor"
   ]
  },
  {
   "cell_type": "code",
   "execution_count": 27,
   "id": "2bffee50-ff28-4d6f-b9b9-3ef057d129e2",
   "metadata": {},
   "outputs": [
    {
     "name": "stdout",
     "output_type": "stream",
     "text": [
      "----------------------------------------------------------------------\n",
      " Classification Metrics: Training Data\n",
      "----------------------------------------------------------------------\n",
      "              precision    recall  f1-score   support\n",
      "\n",
      "      MetSyn       0.75      0.92      0.82       618\n",
      "   No MetSyn       0.95      0.84      0.89      1182\n",
      "\n",
      "    accuracy                           0.87      1800\n",
      "   macro avg       0.85      0.88      0.86      1800\n",
      "weighted avg       0.88      0.87      0.87      1800\n",
      "\n"
     ]
    },
    {
     "data": {
      "image/png": "[encoded data removed]",
      "text/plain": [
       "<Figure size 600x400 with 2 Axes>"
      ]
     },
     "metadata": {},
     "output_type": "display_data"
    },
    {
     "name": "stdout",
     "output_type": "stream",
     "text": [
      "\n",
      "----------------------------------------------------------------------\n",
      " Classification Metrics: Test Data\n",
      "----------------------------------------------------------------------\n",
      "              precision    recall  f1-score   support\n",
      "\n",
      "      MetSyn       0.63      0.78      0.70       204\n",
      "   No MetSyn       0.87      0.77      0.82       397\n",
      "\n",
      "    accuracy                           0.77       601\n",
      "   macro avg       0.75      0.78      0.76       601\n",
      "weighted avg       0.79      0.77      0.78       601\n",
      "\n"
     ]
    },
    {
     "data": {
      "image/png": "[encoded data removed]",
      "text/plain": [
       "<Figure size 600x400 with 2 Axes>"
      ]
     },
     "metadata": {},
     "output_type": "display_data"
    }
   ],
   "source": [
    "smote = SMOTE(random_state=42)\n",
    "\n",
    "knn_smote_pipe = make_sampler_pipeline(preprocessor, smote,  knn)\n",
    "\n",
    "knn_smote_pipe.fit(X_train, y_train)\n",
    "\n",
    "evaluate_classification(knn_smote_pipe, X_train, y_train, X_test, y_test)"
   ]
  },
  {
   "cell_type": "code",
   "execution_count": 28,
   "id": "b9928e19-4eee-48d2-943e-23fbc04e5570",
   "metadata": {},
   "outputs": [],
   "source": [
    "# knn_smote_pipe.get_params()"
   ]
  },
  {
   "cell_type": "markdown",
   "id": "1130f34c-8646-4ce8-962d-7232c1995748",
   "metadata": {},
   "source": [
    "- the decision is to further work with smote in this situation since it gives better results based on our goal which are:\n",
    "  - higher recall (higher true positive)\n",
    "  - this method gives more false positive results that we are willing to accept (from 16% increase to 23%)\n",
    "  - this method decreases the false negative results from 40% to 22% which is crucial to our goal\n",
    "\n",
    "- we will have to tune the model more to get better results but this seems as a good start\n",
    "\n",
    "---\n",
    "\n",
    "the model has chosen 5 KNeighbours"
   ]
  },
  {
   "cell_type": "markdown",
   "id": "25fe99d6-447f-42be-85ca-83c2356c0d3a",
   "metadata": {},
   "source": [
    "## KNN tuning"
   ]
  },
  {
   "cell_type": "code",
   "execution_count": 29,
   "id": "3826cbfe-04dd-4f44-ad4c-2e58a0ef322c",
   "metadata": {},
   "outputs": [],
   "source": [
    "nneighbors_list = list(range(1,33,2))\n",
    "params_1={'kneighborsclassifier__n_neighbors': nneighbors_list}\n",
    "\n",
    "gs_knn_smote = GridSearchCV(knn_smote_pipe, params_1, verbose=True, n_jobs=-1, scoring='recall_macro', cv=5 )"
   ]
  },
  {
   "cell_type": "code",
   "execution_count": 30,
   "id": "5d9a5d5f-0340-4e1c-b9de-4d80f630ad57",
   "metadata": {},
   "outputs": [
    {
     "name": "stdout",
     "output_type": "stream",
     "text": [
      "Fitting 5 folds for each of 16 candidates, totalling 80 fits\n"
     ]
    },
    {
     "data": {
      "text/plain": [
       "{'kneighborsclassifier__n_neighbors': 29}"
      ]
     },
     "execution_count": 30,
     "metadata": {},
     "output_type": "execute_result"
    }
   ],
   "source": [
    "# Fit gs on training data\n",
    "gs_knn_smote.fit(X_train, y_train)\n",
    "# Obtain best param value for K\n",
    "gs_knn_smote.best_params_\n"
   ]
  },
  {
   "cell_type": "code",
   "execution_count": 31,
   "id": "da0b8c8f-66e6-4ed3-9b22-10005da0ff0b",
   "metadata": {},
   "outputs": [
    {
     "name": "stdout",
     "output_type": "stream",
     "text": [
      "----------------------------------------------------------------------\n",
      " Classification Metrics: Training Data\n",
      "----------------------------------------------------------------------\n",
      "              precision    recall  f1-score   support\n",
      "\n",
      "      MetSyn       0.67      0.88      0.76       618\n",
      "   No MetSyn       0.93      0.78      0.84      1182\n",
      "\n",
      "    accuracy                           0.81      1800\n",
      "   macro avg       0.80      0.83      0.80      1800\n",
      "weighted avg       0.84      0.81      0.82      1800\n",
      "\n"
     ]
    },
    {
     "data": {
      "image/png": "[encoded data removed]",
      "text/plain": [
       "<Figure size 600x400 with 2 Axes>"
      ]
     },
     "metadata": {},
     "output_type": "display_data"
    },
    {
     "name": "stdout",
     "output_type": "stream",
     "text": [
      "\n",
      "----------------------------------------------------------------------\n",
      " Classification Metrics: Test Data\n",
      "----------------------------------------------------------------------\n",
      "              precision    recall  f1-score   support\n",
      "\n",
      "      MetSyn       0.66      0.85      0.74       204\n",
      "   No MetSyn       0.91      0.78      0.84       397\n",
      "\n",
      "    accuracy                           0.80       601\n",
      "   macro avg       0.79      0.81      0.79       601\n",
      "weighted avg       0.83      0.80      0.81       601\n",
      "\n"
     ]
    },
    {
     "data": {
      "image/png": "[encoded data removed]",
      "text/plain": [
       "<Figure size 600x400 with 2 Axes>"
      ]
     },
     "metadata": {},
     "output_type": "display_data"
    }
   ],
   "source": [
    "evaluate_classification(gs_knn_smote.best_estimator_, X_train, y_train, X_test, y_test)"
   ]
  },
  {
   "cell_type": "markdown",
   "id": "dbe5b211-9d56-41bb-8ce7-ab68748341ef",
   "metadata": {},
   "source": [
    "**inspecting results on testing data after verifying that the variance is accepted between training and testing data:**\n",
    "\n",
    "- an increase in MetSyn Recall from 78% to 85%\n",
    "- a decrease of the false negatives from 22% to 15%\n",
    "- Macro avrg for Recall has changed from 78% to 81%\n",
    "\n",
    "\n",
    "---\n",
    "\n",
    "this model has used 29 Kneighbours"
   ]
  },
  {
   "cell_type": "markdown",
   "id": "e46574d3-add0-43dd-a0ab-8cba6d150907",
   "metadata": {},
   "source": [
    "# importances extraction"
   ]
  },
  {
   "cell_type": "markdown",
   "id": "7a6ad760-7f84-4cc7-ab02-c08cb0c90b0c",
   "metadata": {
    "jp-MarkdownHeadingCollapsed": true
   },
   "source": [
    "## imports and function"
   ]
  },
  {
   "cell_type": "code",
   "execution_count": 32,
   "id": "eb3c1087-589c-48de-9433-cf345219d10d",
   "metadata": {},
   "outputs": [],
   "source": [
    "from sklearn.inspection import permutation_importance\n",
    "# pd.set_option('display.float_format', lambda x: f\"{x:,.2f}\")"
   ]
  },
  {
   "cell_type": "code",
   "execution_count": 33,
   "id": "1e3b3b1f-c060-48cd-bf8d-6fe335091c5d",
   "metadata": {},
   "outputs": [],
   "source": [
    "def plot_importance_color_ax(importances, top_n=None,  figsize=(8,6),\n",
    "                          color_dict=None, ax=None):\n",
    "\n",
    "    # sorting with asc=false for correct order of bars\n",
    "    if top_n==None:\n",
    "        ## sort all features and set title\n",
    "        plot_vals = importances.sort_values()\n",
    "        title = \"All Features - Ranked by Importance\"\n",
    "    else:\n",
    "        ## sort features and keep top_n and set title\n",
    "        plot_vals = importances.sort_values().tail(top_n)\n",
    "        title = f\"Top {top_n} Most Important Features\"\n",
    "    ## create plot with colors, if provided\n",
    "    if color_dict is not None:\n",
    "        ## Getting color list and saving to plot_kws\n",
    "        colors = plot_vals.index.map(color_dict)\n",
    "        ax = plot_vals.plot(kind='barh', figsize=figsize, color=colors, ax=ax)\n",
    "\n",
    "    else:\n",
    "        ## create plot without colors, if not provided\n",
    "        ax = plot_vals.plot(kind='barh', figsize=figsize, ax=ax)\n",
    "\n",
    "    # set titles and axis labels\n",
    "    ax.set(xlabel='Importance',\n",
    "           ylabel='Feature Names',\n",
    "           title=title)\n",
    "\n",
    "    ## return ax in case want to continue to update/modify figure\n",
    "    return ax\n",
    "\n",
    "##################"
   ]
  },
  {
   "cell_type": "markdown",
   "id": "76358961-57e9-48af-a82c-c1fdaa1db5bd",
   "metadata": {
    "jp-MarkdownHeadingCollapsed": true
   },
   "source": [
    "## permutated importances"
   ]
  },
  {
   "cell_type": "markdown",
   "id": "c19fdbe9-239e-4761-a7cf-fea323c44ed6",
   "metadata": {},
   "source": [
    "- since our best model parameters were 29 Kneighbours, i will make a new variable with this parameter and extract importances using it"
   ]
  },
  {
   "cell_type": "code",
   "execution_count": 34,
   "id": "846d6498-ddd4-4a11-965a-324c07fbda62",
   "metadata": {},
   "outputs": [
    {
     "data": {
      "text/html": [
       "<style>#sk-container-id-4 {color: black;background-color: white;}#sk-container-id-4 pre{padding: 0;}#sk-container-id-4 div.sk-toggleable {background-color: white;}#sk-container-id-4 label.sk-toggleable__label {cursor: pointer;display: block;width: 100%;margin-bottom: 0;padding: 0.3em;box-sizing: border-box;text-align: center;}#sk-container-id-4 label.sk-toggleable__label-arrow:before {content: \"▸\";float: left;margin-right: 0.25em;color: #696969;}#sk-container-id-4 label.sk-toggleable__label-arrow:hover:before {color: black;}#sk-container-id-4 div.sk-estimator:hover label.sk-toggleable__label-arrow:before {color: black;}#sk-container-id-4 div.sk-toggleable__content {max-height: 0;max-width: 0;overflow: hidden;text-align: left;background-color: #f0f8ff;}#sk-container-id-4 div.sk-toggleable__content pre {margin: 0.2em;color: black;border-radius: 0.25em;background-color: #f0f8ff;}#sk-container-id-4 input.sk-toggleable__control:checked~div.sk-toggleable__content {max-height: 200px;max-width: 100%;overflow: auto;}#sk-container-id-4 input.sk-toggleable__control:checked~label.sk-toggleable__label-arrow:before {content: \"▾\";}#sk-container-id-4 div.sk-estimator input.sk-toggleable__control:checked~label.sk-toggleable__label {background-color: #d4ebff;}#sk-container-id-4 div.sk-label input.sk-toggleable__control:checked~label.sk-toggleable__label {background-color: #d4ebff;}#sk-container-id-4 input.sk-hidden--visually {border: 0;clip: rect(1px 1px 1px 1px);clip: rect(1px, 1px, 1px, 1px);height: 1px;margin: -1px;overflow: hidden;padding: 0;position: absolute;width: 1px;}#sk-container-id-4 div.sk-estimator {font-family: monospace;background-color: #f0f8ff;border: 1px dotted black;border-radius: 0.25em;box-sizing: border-box;margin-bottom: 0.5em;}#sk-container-id-4 div.sk-estimator:hover {background-color: #d4ebff;}#sk-container-id-4 div.sk-parallel-item::after {content: \"\";width: 100%;border-bottom: 1px solid gray;flex-grow: 1;}#sk-container-id-4 div.sk-label:hover label.sk-toggleable__label {background-color: #d4ebff;}#sk-container-id-4 div.sk-serial::before {content: \"\";position: absolute;border-left: 1px solid gray;box-sizing: border-box;top: 0;bottom: 0;left: 50%;z-index: 0;}#sk-container-id-4 div.sk-serial {display: flex;flex-direction: column;align-items: center;background-color: white;padding-right: 0.2em;padding-left: 0.2em;position: relative;}#sk-container-id-4 div.sk-item {position: relative;z-index: 1;}#sk-container-id-4 div.sk-parallel {display: flex;align-items: stretch;justify-content: center;background-color: white;position: relative;}#sk-container-id-4 div.sk-item::before, #sk-container-id-4 div.sk-parallel-item::before {content: \"\";position: absolute;border-left: 1px solid gray;box-sizing: border-box;top: 0;bottom: 0;left: 50%;z-index: -1;}#sk-container-id-4 div.sk-parallel-item {display: flex;flex-direction: column;z-index: 1;position: relative;background-color: white;}#sk-container-id-4 div.sk-parallel-item:first-child::after {align-self: flex-end;width: 50%;}#sk-container-id-4 div.sk-parallel-item:last-child::after {align-self: flex-start;width: 50%;}#sk-container-id-4 div.sk-parallel-item:only-child::after {width: 0;}#sk-container-id-4 div.sk-dashed-wrapped {border: 1px dashed gray;margin: 0 0.4em 0.5em 0.4em;box-sizing: border-box;padding-bottom: 0.4em;background-color: white;}#sk-container-id-4 div.sk-label label {font-family: monospace;font-weight: bold;display: inline-block;line-height: 1.2em;}#sk-container-id-4 div.sk-label-container {text-align: center;}#sk-container-id-4 div.sk-container {/* jupyter's `normalize.less` sets `[hidden] { display: none; }` but bootstrap.min.css set `[hidden] { display: none !important; }` so we also need the `!important` here to be able to override the default hidden behavior on the sphinx rendered scikit-learn.org. See: https://github.com/scikit-learn/scikit-learn/issues/21755 */display: inline-block !important;position: relative;}#sk-container-id-4 div.sk-text-repr-fallback {display: none;}</style><div id=\"sk-container-id-4\" class=\"sk-top-container\"><div class=\"sk-text-repr-fallback\"><pre>Pipeline(steps=[(&#x27;columntransformer&#x27;,\n",
       "                 ColumnTransformer(transformers=[(&#x27;numeric&#x27;,\n",
       "                                                  Pipeline(steps=[(&#x27;simpleimputer&#x27;,\n",
       "                                                                   SimpleImputer(strategy=&#x27;median&#x27;)),\n",
       "                                                                  (&#x27;standardscaler&#x27;,\n",
       "                                                                   StandardScaler())]),\n",
       "                                                  Index([&#x27;Age&#x27;, &#x27;Income&#x27;, &#x27;WaistCirc&#x27;, &#x27;BMI&#x27;, &#x27;Albuminuria&#x27;, &#x27;UrAlbCr&#x27;,\n",
       "       &#x27;UricAcid&#x27;, &#x27;BloodGlucose&#x27;, &#x27;HDL&#x27;, &#x27;Triglycerides&#x27;],\n",
       "      dtype=&#x27;object&#x27;)),\n",
       "                                                 (&#x27;categorical&#x27;,\n",
       "                                                  Pipeline(steps=[(&#x27;simpleimputer&#x27;,\n",
       "                                                                   SimpleImputer(strategy=&#x27;most_frequent&#x27;)),\n",
       "                                                                  (&#x27;onehotencoder&#x27;,\n",
       "                                                                   OneHotEncoder(drop=&#x27;first&#x27;,\n",
       "                                                                                 sparse=False))]),\n",
       "                                                  &lt;sklearn.compose._column_transformer.make_column_selector object at 0x00000205BECBA470&gt;)],\n",
       "                                   verbose_feature_names_out=False)),\n",
       "                (&#x27;smote&#x27;, SMOTE(random_state=42)),\n",
       "                (&#x27;kneighborsclassifier&#x27;, KNeighborsClassifier(n_neighbors=29))])</pre><b>In a Jupyter environment, please rerun this cell to show the HTML representation or trust the notebook. <br />On GitHub, the HTML representation is unable to render, please try loading this page with nbviewer.org.</b></div><div class=\"sk-container\" hidden><div class=\"sk-item sk-dashed-wrapped\"><div class=\"sk-label-container\"><div class=\"sk-label sk-toggleable\"><input class=\"sk-toggleable__control sk-hidden--visually\" id=\"sk-estimator-id-18\" type=\"checkbox\" ><label for=\"sk-estimator-id-18\" class=\"sk-toggleable__label sk-toggleable__label-arrow\">Pipeline</label><div class=\"sk-toggleable__content\"><pre>Pipeline(steps=[(&#x27;columntransformer&#x27;,\n",
       "                 ColumnTransformer(transformers=[(&#x27;numeric&#x27;,\n",
       "                                                  Pipeline(steps=[(&#x27;simpleimputer&#x27;,\n",
       "                                                                   SimpleImputer(strategy=&#x27;median&#x27;)),\n",
       "                                                                  (&#x27;standardscaler&#x27;,\n",
       "                                                                   StandardScaler())]),\n",
       "                                                  Index([&#x27;Age&#x27;, &#x27;Income&#x27;, &#x27;WaistCirc&#x27;, &#x27;BMI&#x27;, &#x27;Albuminuria&#x27;, &#x27;UrAlbCr&#x27;,\n",
       "       &#x27;UricAcid&#x27;, &#x27;BloodGlucose&#x27;, &#x27;HDL&#x27;, &#x27;Triglycerides&#x27;],\n",
       "      dtype=&#x27;object&#x27;)),\n",
       "                                                 (&#x27;categorical&#x27;,\n",
       "                                                  Pipeline(steps=[(&#x27;simpleimputer&#x27;,\n",
       "                                                                   SimpleImputer(strategy=&#x27;most_frequent&#x27;)),\n",
       "                                                                  (&#x27;onehotencoder&#x27;,\n",
       "                                                                   OneHotEncoder(drop=&#x27;first&#x27;,\n",
       "                                                                                 sparse=False))]),\n",
       "                                                  &lt;sklearn.compose._column_transformer.make_column_selector object at 0x00000205BECBA470&gt;)],\n",
       "                                   verbose_feature_names_out=False)),\n",
       "                (&#x27;smote&#x27;, SMOTE(random_state=42)),\n",
       "                (&#x27;kneighborsclassifier&#x27;, KNeighborsClassifier(n_neighbors=29))])</pre></div></div></div><div class=\"sk-serial\"><div class=\"sk-item sk-dashed-wrapped\"><div class=\"sk-label-container\"><div class=\"sk-label sk-toggleable\"><input class=\"sk-toggleable__control sk-hidden--visually\" id=\"sk-estimator-id-19\" type=\"checkbox\" ><label for=\"sk-estimator-id-19\" class=\"sk-toggleable__label sk-toggleable__label-arrow\">columntransformer: ColumnTransformer</label><div class=\"sk-toggleable__content\"><pre>ColumnTransformer(transformers=[(&#x27;numeric&#x27;,\n",
       "                                 Pipeline(steps=[(&#x27;simpleimputer&#x27;,\n",
       "                                                  SimpleImputer(strategy=&#x27;median&#x27;)),\n",
       "                                                 (&#x27;standardscaler&#x27;,\n",
       "                                                  StandardScaler())]),\n",
       "                                 Index([&#x27;Age&#x27;, &#x27;Income&#x27;, &#x27;WaistCirc&#x27;, &#x27;BMI&#x27;, &#x27;Albuminuria&#x27;, &#x27;UrAlbCr&#x27;,\n",
       "       &#x27;UricAcid&#x27;, &#x27;BloodGlucose&#x27;, &#x27;HDL&#x27;, &#x27;Triglycerides&#x27;],\n",
       "      dtype=&#x27;object&#x27;)),\n",
       "                                (&#x27;categorical&#x27;,\n",
       "                                 Pipeline(steps=[(&#x27;simpleimputer&#x27;,\n",
       "                                                  SimpleImputer(strategy=&#x27;most_frequent&#x27;)),\n",
       "                                                 (&#x27;onehotencoder&#x27;,\n",
       "                                                  OneHotEncoder(drop=&#x27;first&#x27;,\n",
       "                                                                sparse=False))]),\n",
       "                                 &lt;sklearn.compose._column_transformer.make_column_selector object at 0x00000205BECBA470&gt;)],\n",
       "                  verbose_feature_names_out=False)</pre></div></div></div><div class=\"sk-parallel\"><div class=\"sk-parallel-item\"><div class=\"sk-item\"><div class=\"sk-label-container\"><div class=\"sk-label sk-toggleable\"><input class=\"sk-toggleable__control sk-hidden--visually\" id=\"sk-estimator-id-20\" type=\"checkbox\" ><label for=\"sk-estimator-id-20\" class=\"sk-toggleable__label sk-toggleable__label-arrow\">numeric</label><div class=\"sk-toggleable__content\"><pre>Index([&#x27;Age&#x27;, &#x27;Income&#x27;, &#x27;WaistCirc&#x27;, &#x27;BMI&#x27;, &#x27;Albuminuria&#x27;, &#x27;UrAlbCr&#x27;,\n",
       "       &#x27;UricAcid&#x27;, &#x27;BloodGlucose&#x27;, &#x27;HDL&#x27;, &#x27;Triglycerides&#x27;],\n",
       "      dtype=&#x27;object&#x27;)</pre></div></div></div><div class=\"sk-serial\"><div class=\"sk-item\"><div class=\"sk-serial\"><div class=\"sk-item\"><div class=\"sk-estimator sk-toggleable\"><input class=\"sk-toggleable__control sk-hidden--visually\" id=\"sk-estimator-id-21\" type=\"checkbox\" ><label for=\"sk-estimator-id-21\" class=\"sk-toggleable__label sk-toggleable__label-arrow\">SimpleImputer</label><div class=\"sk-toggleable__content\"><pre>SimpleImputer(strategy=&#x27;median&#x27;)</pre></div></div></div><div class=\"sk-item\"><div class=\"sk-estimator sk-toggleable\"><input class=\"sk-toggleable__control sk-hidden--visually\" id=\"sk-estimator-id-22\" type=\"checkbox\" ><label for=\"sk-estimator-id-22\" class=\"sk-toggleable__label sk-toggleable__label-arrow\">StandardScaler</label><div class=\"sk-toggleable__content\"><pre>StandardScaler()</pre></div></div></div></div></div></div></div></div><div class=\"sk-parallel-item\"><div class=\"sk-item\"><div class=\"sk-label-container\"><div class=\"sk-label sk-toggleable\"><input class=\"sk-toggleable__control sk-hidden--visually\" id=\"sk-estimator-id-23\" type=\"checkbox\" ><label for=\"sk-estimator-id-23\" class=\"sk-toggleable__label sk-toggleable__label-arrow\">categorical</label><div class=\"sk-toggleable__content\"><pre>&lt;sklearn.compose._column_transformer.make_column_selector object at 0x00000205BECBA470&gt;</pre></div></div></div><div class=\"sk-serial\"><div class=\"sk-item\"><div class=\"sk-serial\"><div class=\"sk-item\"><div class=\"sk-estimator sk-toggleable\"><input class=\"sk-toggleable__control sk-hidden--visually\" id=\"sk-estimator-id-24\" type=\"checkbox\" ><label for=\"sk-estimator-id-24\" class=\"sk-toggleable__label sk-toggleable__label-arrow\">SimpleImputer</label><div class=\"sk-toggleable__content\"><pre>SimpleImputer(strategy=&#x27;most_frequent&#x27;)</pre></div></div></div><div class=\"sk-item\"><div class=\"sk-estimator sk-toggleable\"><input class=\"sk-toggleable__control sk-hidden--visually\" id=\"sk-estimator-id-25\" type=\"checkbox\" ><label for=\"sk-estimator-id-25\" class=\"sk-toggleable__label sk-toggleable__label-arrow\">OneHotEncoder</label><div class=\"sk-toggleable__content\"><pre>OneHotEncoder(drop=&#x27;first&#x27;, sparse=False)</pre></div></div></div></div></div></div></div></div></div></div><div class=\"sk-item\"><div class=\"sk-estimator sk-toggleable\"><input class=\"sk-toggleable__control sk-hidden--visually\" id=\"sk-estimator-id-26\" type=\"checkbox\" ><label for=\"sk-estimator-id-26\" class=\"sk-toggleable__label sk-toggleable__label-arrow\">SMOTE</label><div class=\"sk-toggleable__content\"><pre>SMOTE(random_state=42)</pre></div></div></div><div class=\"sk-item\"><div class=\"sk-estimator sk-toggleable\"><input class=\"sk-toggleable__control sk-hidden--visually\" id=\"sk-estimator-id-27\" type=\"checkbox\" ><label for=\"sk-estimator-id-27\" class=\"sk-toggleable__label sk-toggleable__label-arrow\">KNeighborsClassifier</label><div class=\"sk-toggleable__content\"><pre>KNeighborsClassifier(n_neighbors=29)</pre></div></div></div></div></div></div></div>"
      ],
      "text/plain": [
       "Pipeline(steps=[('columntransformer',\n",
       "                 ColumnTransformer(transformers=[('numeric',\n",
       "                                                  Pipeline(steps=[('simpleimputer',\n",
       "                                                                   SimpleImputer(strategy='median')),\n",
       "                                                                  ('standardscaler',\n",
       "                                                                   StandardScaler())]),\n",
       "                                                  Index(['Age', 'Income', 'WaistCirc', 'BMI', 'Albuminuria', 'UrAlbCr',\n",
       "       'UricAcid', 'BloodGlucose', 'HDL', 'Triglycerides'],\n",
       "      dtype='object')),\n",
       "                                                 ('categorical',\n",
       "                                                  Pipeline(steps=[('simpleimputer',\n",
       "                                                                   SimpleImputer(strategy='most_frequent')),\n",
       "                                                                  ('onehotencoder',\n",
       "                                                                   OneHotEncoder(drop='first',\n",
       "                                                                                 sparse=False))]),\n",
       "                                                  <sklearn.compose._column_transformer.make_column_selector object at 0x00000205BECBA470>)],\n",
       "                                   verbose_feature_names_out=False)),\n",
       "                ('smote', SMOTE(random_state=42)),\n",
       "                ('kneighborsclassifier', KNeighborsClassifier(n_neighbors=29))])"
      ]
     },
     "execution_count": 34,
     "metadata": {},
     "output_type": "execute_result"
    }
   ],
   "source": [
    "knn_29 = KNeighborsClassifier(n_neighbors=29)\n",
    "\n",
    "knn29_smote_pipe = make_sampler_pipeline(preprocessor, smote,  knn_29)\n",
    "\n",
    "knn29_smote_pipe.fit(X_train, y_train)"
   ]
  },
  {
   "cell_type": "code",
   "execution_count": 35,
   "id": "4ef0e7b9-15b6-45f1-8d04-b9dd53cdb66a",
   "metadata": {},
   "outputs": [],
   "source": [
    "permutation_importances = permutation_importance(knn29_smote_pipe , X_test, y_test, n_repeats=5, random_state=42)\n"
   ]
  },
  {
   "cell_type": "code",
   "execution_count": 36,
   "id": "2b288acb-6b01-4676-b349-8a48b89558d2",
   "metadata": {},
   "outputs": [
    {
     "data": {
      "text/plain": [
       "{'importances_mean': array([ 0.03427621,  0.01464226,  0.01364393,  0.00332779,  0.00698835,\n",
       "         0.02462562,  0.01464226,  0.00698835,  0.00133111, -0.00066556,\n",
       "         0.04392679,  0.03527454,  0.05657238]),\n",
       " 'importances_std': array([0.01039634, 0.00322641, 0.00617213, 0.00622572, 0.00570597,\n",
       "        0.00685233, 0.00660547, 0.00486813, 0.0022074 , 0.00653806,\n",
       "        0.00670531, 0.00876668, 0.00729082]),\n",
       " 'importances': array([[ 0.04326123,  0.04326123,  0.03327787,  0.01497504,  0.03660566],\n",
       "        [ 0.01164725,  0.01663894,  0.01663894,  0.00998336,  0.01830283],\n",
       "        [ 0.00998336,  0.00499168,  0.02329451,  0.01663894,  0.01331115],\n",
       "        [ 0.        , -0.00332779,  0.00332779,  0.01497504,  0.00166389],\n",
       "        [ 0.00166389,  0.01164725,  0.01497504,  0.        ,  0.00665557],\n",
       "        [ 0.01996672,  0.02163062,  0.02163062,  0.03826955,  0.02163062],\n",
       "        [ 0.01663894,  0.00665557,  0.00831947,  0.01663894,  0.0249584 ],\n",
       "        [ 0.00166389,  0.01497504,  0.00332779,  0.00998336,  0.00499168],\n",
       "        [ 0.00166389,  0.00499168,  0.00166389, -0.00166389,  0.        ],\n",
       "        [-0.00499168,  0.00998336,  0.00332779, -0.00831947, -0.00332779],\n",
       "        [ 0.04492512,  0.03993344,  0.05657238,  0.03993344,  0.03826955],\n",
       "        [ 0.03993344,  0.04825291,  0.03660566,  0.02828619,  0.02329451],\n",
       "        [ 0.06156406,  0.06655574,  0.05823627,  0.04825291,  0.04825291]])}"
      ]
     },
     "execution_count": 36,
     "metadata": {},
     "output_type": "execute_result"
    }
   ],
   "source": [
    "permutation_importances"
   ]
  },
  {
   "cell_type": "code",
   "execution_count": 37,
   "id": "db335826-1a1c-4e81-b1c3-3a6e8fb4e711",
   "metadata": {},
   "outputs": [],
   "source": [
    "permutation_importances = pd.Series(permutation_importances['importances_mean'],index=X_test.columns,\n",
    "                           name = 'permutation importance')"
   ]
  },
  {
   "cell_type": "code",
   "execution_count": 38,
   "id": "847535f9-0e23-4b7b-ba86-620d85b9ed03",
   "metadata": {},
   "outputs": [
    {
     "data": {
      "text/plain": [
       "Triglycerides    0.056572\n",
       "BloodGlucose     0.043927\n",
       "HDL              0.035275\n",
       "Age              0.034276\n",
       "WaistCirc        0.024626\n",
       "Sex              0.014642\n",
       "BMI              0.014642\n",
       "Marital          0.013644\n",
       "Race             0.006988\n",
       "Albuminuria      0.006988\n",
       "Income           0.003328\n",
       "UrAlbCr          0.001331\n",
       "UricAcid        -0.000666\n",
       "Name: permutation importance, dtype: float64"
      ]
     },
     "execution_count": 38,
     "metadata": {},
     "output_type": "execute_result"
    }
   ],
   "source": [
    "permutation_importances = permutation_importances.sort_values(ascending=False)\n",
    "\n",
    "permutation_importances"
   ]
  },
  {
   "cell_type": "code",
   "execution_count": 39,
   "id": "f3621ea6-0f6b-490b-9b60-8c00ff17eda5",
   "metadata": {},
   "outputs": [
    {
     "data": {
      "text/plain": [
       "<Axes: title={'center': 'Top 15 Most Important Features'}, xlabel='Importance', ylabel='Feature Names'>"
      ]
     },
     "execution_count": 39,
     "metadata": {},
     "output_type": "execute_result"
    },
    {
     "data": {
      "image/png": "[encoded data removed]",
      "text/plain": [
       "<Figure size 1000x800 with 1 Axes>"
      ]
     },
     "metadata": {},
     "output_type": "display_data"
    }
   ],
   "source": [
    "n = 15\n",
    "plot_importance_color_ax(permutation_importances, top_n=n,\n",
    "                         figsize=(10,8))"
   ]
  },
  {
   "cell_type": "markdown",
   "id": "93537578-2306-4a4e-ba49-35f8483b7075",
   "metadata": {},
   "source": [
    "### permutation from transformed(processed) data"
   ]
  },
  {
   "cell_type": "code",
   "execution_count": 40,
   "id": "cc02b490-a9b6-48fa-ae75-ce2a72c4b379",
   "metadata": {},
   "outputs": [
    {
     "data": {
      "text/plain": [
       "{'importances_mean': array([ 0.03427621,  0.00332779,  0.02462562,  0.01464226,  0.00698835,\n",
       "         0.00133111, -0.00066556,  0.04392679,  0.03527454,  0.05657238,\n",
       "         0.01464226,  0.00998336,  0.00066556,  0.00499168,  0.00166389,\n",
       "         0.0093178 ,  0.00099834, -0.00033278,  0.        ,  0.00831947]),\n",
       " 'importances_std': array([0.01039634, 0.00622572, 0.00685233, 0.00660547, 0.00486813,\n",
       "        0.0022074 , 0.00653806, 0.00670531, 0.00876668, 0.00729082,\n",
       "        0.00322641, 0.00278423, 0.00169685, 0.00148823, 0.00148823,\n",
       "        0.00342617, 0.00225701, 0.00124514, 0.        , 0.00526169]),\n",
       " 'importances': array([[ 0.04326123,  0.04326123,  0.03327787,  0.01497504,  0.03660566],\n",
       "        [ 0.        , -0.00332779,  0.00332779,  0.01497504,  0.00166389],\n",
       "        [ 0.01996672,  0.02163062,  0.02163062,  0.03826955,  0.02163062],\n",
       "        [ 0.01663894,  0.00665557,  0.00831947,  0.01663894,  0.0249584 ],\n",
       "        [ 0.00166389,  0.01497504,  0.00332779,  0.00998336,  0.00499168],\n",
       "        [ 0.00166389,  0.00499168,  0.00166389, -0.00166389,  0.        ],\n",
       "        [-0.00499168,  0.00998336,  0.00332779, -0.00831947, -0.00332779],\n",
       "        [ 0.04492512,  0.03993344,  0.05657238,  0.03993344,  0.03826955],\n",
       "        [ 0.03993344,  0.04825291,  0.03660566,  0.02828619,  0.02329451],\n",
       "        [ 0.06156406,  0.06655574,  0.05823627,  0.04825291,  0.04825291],\n",
       "        [ 0.01164725,  0.01663894,  0.01663894,  0.00998336,  0.01830283],\n",
       "        [ 0.01331115,  0.00665557,  0.01164725,  0.01164725,  0.00665557],\n",
       "        [-0.00166389,  0.00166389,  0.00332779,  0.        ,  0.        ],\n",
       "        [ 0.00332779,  0.00665557,  0.00499168,  0.00665557,  0.00332779],\n",
       "        [ 0.        ,  0.00332779,  0.        ,  0.00332779,  0.00166389],\n",
       "        [ 0.00665557,  0.01331115,  0.01331115,  0.00831947,  0.00499168],\n",
       "        [ 0.00332779,  0.00166389,  0.00166389, -0.00332779,  0.00166389],\n",
       "        [ 0.        ,  0.00166389, -0.00166389, -0.00166389,  0.        ],\n",
       "        [ 0.        ,  0.        ,  0.        ,  0.        ,  0.        ],\n",
       "        [ 0.00166389,  0.01331115,  0.00831947,  0.00332779,  0.01497504]])}"
      ]
     },
     "execution_count": 40,
     "metadata": {},
     "output_type": "execute_result"
    }
   ],
   "source": [
    "permutation_importances_tf = permutation_importance(knn_29 , X_test_tf, y_test, n_repeats=5, random_state=42)\n",
    "permutation_importances_tf\n"
   ]
  },
  {
   "cell_type": "code",
   "execution_count": 41,
   "id": "14069d23-3936-40e8-92aa-dada945ef181",
   "metadata": {},
   "outputs": [],
   "source": [
    "permutation_importances_tf = pd.Series(permutation_importances_tf['importances_mean'],index=X_test_tf.columns,\n",
    "                           name = 'permutation importance')"
   ]
  },
  {
   "cell_type": "code",
   "execution_count": 42,
   "id": "beae68b0-541a-43ea-9655-aa45e6e4cf9a",
   "metadata": {},
   "outputs": [
    {
     "data": {
      "text/plain": [
       "<Axes: title={'center': 'Top 15 Most Important Features'}, xlabel='Importance', ylabel='Feature Names'>"
      ]
     },
     "execution_count": 42,
     "metadata": {},
     "output_type": "execute_result"
    },
    {
     "data": {
      "image/png": "[encoded data removed]",
      "text/plain": [
       "<Figure size 1000x800 with 1 Axes>"
      ]
     },
     "metadata": {},
     "output_type": "display_data"
    }
   ],
   "source": [
    "plot_importance_color_ax(permutation_importances_tf, top_n=n,\n",
    "                         figsize=(10,8))"
   ]
  },
  {
   "cell_type": "markdown",
   "id": "620ccda2-3783-4f7d-804c-50f91567f698",
   "metadata": {
    "jp-MarkdownHeadingCollapsed": true
   },
   "source": [
    "# Visualizing important features for the model we've chosen to work with"
   ]
  },
  {
   "cell_type": "markdown",
   "id": "b84e468b-99bb-49e9-9acc-1d698804d146",
   "metadata": {},
   "source": [
    "- lets concate our processed df in order to work with what singled out categories\n",
    "\n",
    "---"
   ]
  },
  {
   "cell_type": "code",
   "execution_count": 43,
   "id": "df2bcc49-885a-4102-8795-305b8e202139",
   "metadata": {},
   "outputs": [
    {
     "data": {
      "text/html": [
       "<div>\n",
       "<style scoped>\n",
       "    .dataframe tbody tr th:only-of-type {\n",
       "        vertical-align: middle;\n",
       "    }\n",
       "\n",
       "    .dataframe tbody tr th {\n",
       "        vertical-align: top;\n",
       "    }\n",
       "\n",
       "    .dataframe thead th {\n",
       "        text-align: right;\n",
       "    }\n",
       "</style>\n",
       "<table border=\"1\" class=\"dataframe\">\n",
       "  <thead>\n",
       "    <tr style=\"text-align: right;\">\n",
       "      <th></th>\n",
       "      <th>Age</th>\n",
       "      <th>Income</th>\n",
       "      <th>WaistCirc</th>\n",
       "      <th>BMI</th>\n",
       "      <th>Albuminuria</th>\n",
       "      <th>UrAlbCr</th>\n",
       "      <th>UricAcid</th>\n",
       "      <th>BloodGlucose</th>\n",
       "      <th>HDL</th>\n",
       "      <th>Triglycerides</th>\n",
       "      <th>Sex_Male</th>\n",
       "      <th>Marital_Married</th>\n",
       "      <th>Marital_Separated</th>\n",
       "      <th>Marital_Single</th>\n",
       "      <th>Marital_Widowed</th>\n",
       "      <th>Race_Black</th>\n",
       "      <th>Race_Hispanic</th>\n",
       "      <th>Race_MexAmerican</th>\n",
       "      <th>Race_Other</th>\n",
       "      <th>Race_White</th>\n",
       "      <th>MetabolicSyndrome</th>\n",
       "    </tr>\n",
       "    <tr>\n",
       "      <th>seqn</th>\n",
       "      <th></th>\n",
       "      <th></th>\n",
       "      <th></th>\n",
       "      <th></th>\n",
       "      <th></th>\n",
       "      <th></th>\n",
       "      <th></th>\n",
       "      <th></th>\n",
       "      <th></th>\n",
       "      <th></th>\n",
       "      <th></th>\n",
       "      <th></th>\n",
       "      <th></th>\n",
       "      <th></th>\n",
       "      <th></th>\n",
       "      <th></th>\n",
       "      <th></th>\n",
       "      <th></th>\n",
       "      <th></th>\n",
       "      <th></th>\n",
       "      <th></th>\n",
       "    </tr>\n",
       "  </thead>\n",
       "  <tbody>\n",
       "    <tr>\n",
       "      <th>63211</th>\n",
       "      <td>-0.176875</td>\n",
       "      <td>1.443579</td>\n",
       "      <td>1.591313</td>\n",
       "      <td>1.815754</td>\n",
       "      <td>-0.366397</td>\n",
       "      <td>-0.100646</td>\n",
       "      <td>-1.503810</td>\n",
       "      <td>0.962189</td>\n",
       "      <td>-0.045041</td>\n",
       "      <td>0.728110</td>\n",
       "      <td>0.0</td>\n",
       "      <td>1.0</td>\n",
       "      <td>0.0</td>\n",
       "      <td>0.0</td>\n",
       "      <td>0.0</td>\n",
       "      <td>0.0</td>\n",
       "      <td>0.0</td>\n",
       "      <td>0.0</td>\n",
       "      <td>0.0</td>\n",
       "      <td>1.0</td>\n",
       "      <td>MetSyn</td>\n",
       "    </tr>\n",
       "    <tr>\n",
       "      <th>70548</th>\n",
       "      <td>-0.857407</td>\n",
       "      <td>-0.165173</td>\n",
       "      <td>-0.767163</td>\n",
       "      <td>-0.637064</td>\n",
       "      <td>-0.366397</td>\n",
       "      <td>-0.108892</td>\n",
       "      <td>0.406271</td>\n",
       "      <td>0.185052</td>\n",
       "      <td>1.929154</td>\n",
       "      <td>-0.704544</td>\n",
       "      <td>1.0</td>\n",
       "      <td>0.0</td>\n",
       "      <td>1.0</td>\n",
       "      <td>0.0</td>\n",
       "      <td>0.0</td>\n",
       "      <td>0.0</td>\n",
       "      <td>0.0</td>\n",
       "      <td>1.0</td>\n",
       "      <td>0.0</td>\n",
       "      <td>0.0</td>\n",
       "      <td>No MetSyn</td>\n",
       "    </tr>\n",
       "    <tr>\n",
       "      <th>64722</th>\n",
       "      <td>-0.914117</td>\n",
       "      <td>-0.165173</td>\n",
       "      <td>-1.465971</td>\n",
       "      <td>-0.561824</td>\n",
       "      <td>-0.366397</td>\n",
       "      <td>-0.125171</td>\n",
       "      <td>-1.435593</td>\n",
       "      <td>-0.323077</td>\n",
       "      <td>-0.637299</td>\n",
       "      <td>-0.704544</td>\n",
       "      <td>0.0</td>\n",
       "      <td>1.0</td>\n",
       "      <td>0.0</td>\n",
       "      <td>0.0</td>\n",
       "      <td>0.0</td>\n",
       "      <td>0.0</td>\n",
       "      <td>0.0</td>\n",
       "      <td>1.0</td>\n",
       "      <td>0.0</td>\n",
       "      <td>0.0</td>\n",
       "      <td>No MetSyn</td>\n",
       "    </tr>\n",
       "    <tr>\n",
       "      <th>69237</th>\n",
       "      <td>-0.006742</td>\n",
       "      <td>1.717409</td>\n",
       "      <td>-0.174425</td>\n",
       "      <td>0.687157</td>\n",
       "      <td>-0.366397</td>\n",
       "      <td>-0.152526</td>\n",
       "      <td>-1.913113</td>\n",
       "      <td>-0.562196</td>\n",
       "      <td>-0.176654</td>\n",
       "      <td>0.115599</td>\n",
       "      <td>0.0</td>\n",
       "      <td>1.0</td>\n",
       "      <td>0.0</td>\n",
       "      <td>0.0</td>\n",
       "      <td>0.0</td>\n",
       "      <td>0.0</td>\n",
       "      <td>1.0</td>\n",
       "      <td>0.0</td>\n",
       "      <td>0.0</td>\n",
       "      <td>0.0</td>\n",
       "      <td>No MetSyn</td>\n",
       "    </tr>\n",
       "    <tr>\n",
       "      <th>65286</th>\n",
       "      <td>-1.084250</td>\n",
       "      <td>1.717409</td>\n",
       "      <td>-1.422296</td>\n",
       "      <td>-1.028311</td>\n",
       "      <td>-0.366397</td>\n",
       "      <td>-0.138548</td>\n",
       "      <td>1.088443</td>\n",
       "      <td>-0.801315</td>\n",
       "      <td>0.283992</td>\n",
       "      <td>2.762893</td>\n",
       "      <td>1.0</td>\n",
       "      <td>1.0</td>\n",
       "      <td>0.0</td>\n",
       "      <td>0.0</td>\n",
       "      <td>0.0</td>\n",
       "      <td>0.0</td>\n",
       "      <td>0.0</td>\n",
       "      <td>0.0</td>\n",
       "      <td>0.0</td>\n",
       "      <td>0.0</td>\n",
       "      <td>No MetSyn</td>\n",
       "    </tr>\n",
       "  </tbody>\n",
       "</table>\n",
       "</div>"
      ],
      "text/plain": [
       "            Age    Income  WaistCirc       BMI  Albuminuria   UrAlbCr  \\\n",
       "seqn                                                                    \n",
       "63211 -0.176875  1.443579   1.591313  1.815754    -0.366397 -0.100646   \n",
       "70548 -0.857407 -0.165173  -0.767163 -0.637064    -0.366397 -0.108892   \n",
       "64722 -0.914117 -0.165173  -1.465971 -0.561824    -0.366397 -0.125171   \n",
       "69237 -0.006742  1.717409  -0.174425  0.687157    -0.366397 -0.152526   \n",
       "65286 -1.084250  1.717409  -1.422296 -1.028311    -0.366397 -0.138548   \n",
       "\n",
       "       UricAcid  BloodGlucose       HDL  Triglycerides  Sex_Male  \\\n",
       "seqn                                                               \n",
       "63211 -1.503810      0.962189 -0.045041       0.728110       0.0   \n",
       "70548  0.406271      0.185052  1.929154      -0.704544       1.0   \n",
       "64722 -1.435593     -0.323077 -0.637299      -0.704544       0.0   \n",
       "69237 -1.913113     -0.562196 -0.176654       0.115599       0.0   \n",
       "65286  1.088443     -0.801315  0.283992       2.762893       1.0   \n",
       "\n",
       "       Marital_Married  Marital_Separated  Marital_Single  Marital_Widowed  \\\n",
       "seqn                                                                         \n",
       "63211              1.0                0.0             0.0              0.0   \n",
       "70548              0.0                1.0             0.0              0.0   \n",
       "64722              1.0                0.0             0.0              0.0   \n",
       "69237              1.0                0.0             0.0              0.0   \n",
       "65286              1.0                0.0             0.0              0.0   \n",
       "\n",
       "       Race_Black  Race_Hispanic  Race_MexAmerican  Race_Other  Race_White  \\\n",
       "seqn                                                                         \n",
       "63211         0.0            0.0               0.0         0.0         1.0   \n",
       "70548         0.0            0.0               1.0         0.0         0.0   \n",
       "64722         0.0            0.0               1.0         0.0         0.0   \n",
       "69237         0.0            1.0               0.0         0.0         0.0   \n",
       "65286         0.0            0.0               0.0         0.0         0.0   \n",
       "\n",
       "      MetabolicSyndrome  \n",
       "seqn                     \n",
       "63211            MetSyn  \n",
       "70548         No MetSyn  \n",
       "64722         No MetSyn  \n",
       "69237         No MetSyn  \n",
       "65286         No MetSyn  "
      ]
     },
     "execution_count": 43,
     "metadata": {},
     "output_type": "execute_result"
    }
   ],
   "source": [
    "plot_df_train = pd.concat([X_train_tf, y_train],axis=1)\n",
    "plot_df_test = pd.concat([X_test_tf, y_test],axis=1)\n",
    "plot_df = pd.concat([plot_df_train, plot_df_test])\n",
    "plot_df.head()"
   ]
  },
  {
   "cell_type": "code",
   "execution_count": 44,
   "id": "51086a0d-b2a5-40ff-86cb-d3ea526fa758",
   "metadata": {},
   "outputs": [
    {
     "data": {
      "text/html": [
       "<div>\n",
       "<style scoped>\n",
       "    .dataframe tbody tr th:only-of-type {\n",
       "        vertical-align: middle;\n",
       "    }\n",
       "\n",
       "    .dataframe tbody tr th {\n",
       "        vertical-align: top;\n",
       "    }\n",
       "\n",
       "    .dataframe thead th {\n",
       "        text-align: right;\n",
       "    }\n",
       "</style>\n",
       "<table border=\"1\" class=\"dataframe\">\n",
       "  <thead>\n",
       "    <tr style=\"text-align: right;\">\n",
       "      <th></th>\n",
       "      <th>Age</th>\n",
       "      <th>Income</th>\n",
       "      <th>WaistCirc</th>\n",
       "      <th>BMI</th>\n",
       "      <th>Albuminuria</th>\n",
       "      <th>UrAlbCr</th>\n",
       "      <th>UricAcid</th>\n",
       "      <th>BloodGlucose</th>\n",
       "      <th>HDL</th>\n",
       "      <th>Triglycerides</th>\n",
       "      <th>Sex_Male</th>\n",
       "      <th>Marital_Married</th>\n",
       "      <th>Marital_Separated</th>\n",
       "      <th>Marital_Single</th>\n",
       "      <th>Marital_Widowed</th>\n",
       "      <th>Race_Black</th>\n",
       "      <th>Race_Hispanic</th>\n",
       "      <th>Race_MexAmerican</th>\n",
       "      <th>Race_Other</th>\n",
       "      <th>Race_White</th>\n",
       "      <th>MetabolicSyndrome</th>\n",
       "      <th>MetabolicSyndrome_num</th>\n",
       "    </tr>\n",
       "    <tr>\n",
       "      <th>seqn</th>\n",
       "      <th></th>\n",
       "      <th></th>\n",
       "      <th></th>\n",
       "      <th></th>\n",
       "      <th></th>\n",
       "      <th></th>\n",
       "      <th></th>\n",
       "      <th></th>\n",
       "      <th></th>\n",
       "      <th></th>\n",
       "      <th></th>\n",
       "      <th></th>\n",
       "      <th></th>\n",
       "      <th></th>\n",
       "      <th></th>\n",
       "      <th></th>\n",
       "      <th></th>\n",
       "      <th></th>\n",
       "      <th></th>\n",
       "      <th></th>\n",
       "      <th></th>\n",
       "      <th></th>\n",
       "    </tr>\n",
       "  </thead>\n",
       "  <tbody>\n",
       "    <tr>\n",
       "      <th>63211</th>\n",
       "      <td>-0.176875</td>\n",
       "      <td>1.443579</td>\n",
       "      <td>1.591313</td>\n",
       "      <td>1.815754</td>\n",
       "      <td>-0.366397</td>\n",
       "      <td>-0.100646</td>\n",
       "      <td>-1.503810</td>\n",
       "      <td>0.962189</td>\n",
       "      <td>-0.045041</td>\n",
       "      <td>0.728110</td>\n",
       "      <td>0.0</td>\n",
       "      <td>1.0</td>\n",
       "      <td>0.0</td>\n",
       "      <td>0.0</td>\n",
       "      <td>0.0</td>\n",
       "      <td>0.0</td>\n",
       "      <td>0.0</td>\n",
       "      <td>0.0</td>\n",
       "      <td>0.0</td>\n",
       "      <td>1.0</td>\n",
       "      <td>MetSyn</td>\n",
       "      <td>1</td>\n",
       "    </tr>\n",
       "    <tr>\n",
       "      <th>70548</th>\n",
       "      <td>-0.857407</td>\n",
       "      <td>-0.165173</td>\n",
       "      <td>-0.767163</td>\n",
       "      <td>-0.637064</td>\n",
       "      <td>-0.366397</td>\n",
       "      <td>-0.108892</td>\n",
       "      <td>0.406271</td>\n",
       "      <td>0.185052</td>\n",
       "      <td>1.929154</td>\n",
       "      <td>-0.704544</td>\n",
       "      <td>1.0</td>\n",
       "      <td>0.0</td>\n",
       "      <td>1.0</td>\n",
       "      <td>0.0</td>\n",
       "      <td>0.0</td>\n",
       "      <td>0.0</td>\n",
       "      <td>0.0</td>\n",
       "      <td>1.0</td>\n",
       "      <td>0.0</td>\n",
       "      <td>0.0</td>\n",
       "      <td>No MetSyn</td>\n",
       "      <td>0</td>\n",
       "    </tr>\n",
       "    <tr>\n",
       "      <th>64722</th>\n",
       "      <td>-0.914117</td>\n",
       "      <td>-0.165173</td>\n",
       "      <td>-1.465971</td>\n",
       "      <td>-0.561824</td>\n",
       "      <td>-0.366397</td>\n",
       "      <td>-0.125171</td>\n",
       "      <td>-1.435593</td>\n",
       "      <td>-0.323077</td>\n",
       "      <td>-0.637299</td>\n",
       "      <td>-0.704544</td>\n",
       "      <td>0.0</td>\n",
       "      <td>1.0</td>\n",
       "      <td>0.0</td>\n",
       "      <td>0.0</td>\n",
       "      <td>0.0</td>\n",
       "      <td>0.0</td>\n",
       "      <td>0.0</td>\n",
       "      <td>1.0</td>\n",
       "      <td>0.0</td>\n",
       "      <td>0.0</td>\n",
       "      <td>No MetSyn</td>\n",
       "      <td>0</td>\n",
       "    </tr>\n",
       "    <tr>\n",
       "      <th>69237</th>\n",
       "      <td>-0.006742</td>\n",
       "      <td>1.717409</td>\n",
       "      <td>-0.174425</td>\n",
       "      <td>0.687157</td>\n",
       "      <td>-0.366397</td>\n",
       "      <td>-0.152526</td>\n",
       "      <td>-1.913113</td>\n",
       "      <td>-0.562196</td>\n",
       "      <td>-0.176654</td>\n",
       "      <td>0.115599</td>\n",
       "      <td>0.0</td>\n",
       "      <td>1.0</td>\n",
       "      <td>0.0</td>\n",
       "      <td>0.0</td>\n",
       "      <td>0.0</td>\n",
       "      <td>0.0</td>\n",
       "      <td>1.0</td>\n",
       "      <td>0.0</td>\n",
       "      <td>0.0</td>\n",
       "      <td>0.0</td>\n",
       "      <td>No MetSyn</td>\n",
       "      <td>0</td>\n",
       "    </tr>\n",
       "    <tr>\n",
       "      <th>65286</th>\n",
       "      <td>-1.084250</td>\n",
       "      <td>1.717409</td>\n",
       "      <td>-1.422296</td>\n",
       "      <td>-1.028311</td>\n",
       "      <td>-0.366397</td>\n",
       "      <td>-0.138548</td>\n",
       "      <td>1.088443</td>\n",
       "      <td>-0.801315</td>\n",
       "      <td>0.283992</td>\n",
       "      <td>2.762893</td>\n",
       "      <td>1.0</td>\n",
       "      <td>1.0</td>\n",
       "      <td>0.0</td>\n",
       "      <td>0.0</td>\n",
       "      <td>0.0</td>\n",
       "      <td>0.0</td>\n",
       "      <td>0.0</td>\n",
       "      <td>0.0</td>\n",
       "      <td>0.0</td>\n",
       "      <td>0.0</td>\n",
       "      <td>No MetSyn</td>\n",
       "      <td>0</td>\n",
       "    </tr>\n",
       "  </tbody>\n",
       "</table>\n",
       "</div>"
      ],
      "text/plain": [
       "            Age    Income  WaistCirc       BMI  Albuminuria   UrAlbCr  \\\n",
       "seqn                                                                    \n",
       "63211 -0.176875  1.443579   1.591313  1.815754    -0.366397 -0.100646   \n",
       "70548 -0.857407 -0.165173  -0.767163 -0.637064    -0.366397 -0.108892   \n",
       "64722 -0.914117 -0.165173  -1.465971 -0.561824    -0.366397 -0.125171   \n",
       "69237 -0.006742  1.717409  -0.174425  0.687157    -0.366397 -0.152526   \n",
       "65286 -1.084250  1.717409  -1.422296 -1.028311    -0.366397 -0.138548   \n",
       "\n",
       "       UricAcid  BloodGlucose       HDL  Triglycerides  Sex_Male  \\\n",
       "seqn                                                               \n",
       "63211 -1.503810      0.962189 -0.045041       0.728110       0.0   \n",
       "70548  0.406271      0.185052  1.929154      -0.704544       1.0   \n",
       "64722 -1.435593     -0.323077 -0.637299      -0.704544       0.0   \n",
       "69237 -1.913113     -0.562196 -0.176654       0.115599       0.0   \n",
       "65286  1.088443     -0.801315  0.283992       2.762893       1.0   \n",
       "\n",
       "       Marital_Married  Marital_Separated  Marital_Single  Marital_Widowed  \\\n",
       "seqn                                                                         \n",
       "63211              1.0                0.0             0.0              0.0   \n",
       "70548              0.0                1.0             0.0              0.0   \n",
       "64722              1.0                0.0             0.0              0.0   \n",
       "69237              1.0                0.0             0.0              0.0   \n",
       "65286              1.0                0.0             0.0              0.0   \n",
       "\n",
       "       Race_Black  Race_Hispanic  Race_MexAmerican  Race_Other  Race_White  \\\n",
       "seqn                                                                         \n",
       "63211         0.0            0.0               0.0         0.0         1.0   \n",
       "70548         0.0            0.0               1.0         0.0         0.0   \n",
       "64722         0.0            0.0               1.0         0.0         0.0   \n",
       "69237         0.0            1.0               0.0         0.0         0.0   \n",
       "65286         0.0            0.0               0.0         0.0         0.0   \n",
       "\n",
       "      MetabolicSyndrome  MetabolicSyndrome_num  \n",
       "seqn                                            \n",
       "63211            MetSyn                      1  \n",
       "70548         No MetSyn                      0  \n",
       "64722         No MetSyn                      0  \n",
       "69237         No MetSyn                      0  \n",
       "65286         No MetSyn                      0  "
      ]
     },
     "execution_count": 44,
     "metadata": {},
     "output_type": "execute_result"
    }
   ],
   "source": [
    "plot_df['MetabolicSyndrome_num'] = plot_df['MetabolicSyndrome'].replace({'MetSyn': 1, 'No MetSyn': 0})\n",
    "plot_df.head()"
   ]
  },
  {
   "cell_type": "code",
   "execution_count": 45,
   "id": "f11be67e-d999-431b-8cf1-fcd1054c7a87",
   "metadata": {},
   "outputs": [
    {
     "data": {
      "image/png": "[encoded data removed]",
      "text/plain": [
       "<Figure size 640x480 with 1 Axes>"
      ]
     },
     "metadata": {},
     "output_type": "display_data"
    },
    {
     "data": {
      "text/plain": [
       "<Figure size 640x480 with 0 Axes>"
      ]
     },
     "metadata": {},
     "output_type": "display_data"
    }
   ],
   "source": [
    "sns.barplot(data=df, x='MetabolicSyndrome',y='Triglycerides');\n",
    "\n",
    "\n",
    "plt.title(\"Barplot - Triglycerides\")\n",
    "plt.xlabel(\"MetabolicSyndrome\")\n",
    "plt.ylabel(\"Triglycerides\")\n",
    "plt.tight_layout()\n",
    "plt.show()\n",
    "plt.savefig('MSvsTrig.png')"
   ]
  },
  {
   "cell_type": "code",
   "execution_count": 46,
   "id": "32a1d81f-4f32-4949-922b-8a337072b946",
   "metadata": {},
   "outputs": [
    {
     "data": {
      "image/png": "[encoded data removed]",
      "text/plain": [
       "<Figure size 640x480 with 1 Axes>"
      ]
     },
     "metadata": {},
     "output_type": "display_data"
    },
    {
     "data": {
      "text/plain": [
       "<Figure size 640x480 with 0 Axes>"
      ]
     },
     "metadata": {},
     "output_type": "display_data"
    }
   ],
   "source": [
    "sns.barplot(data=df, x='MetabolicSyndrome',y='BloodGlucose');\n",
    "\n",
    "plt.title(\"Barplot - BloodGlucose\")\n",
    "plt.xlabel(\"MetabolicSyndrome\")\n",
    "plt.ylabel(\"BloodGlucose\")\n",
    "plt.show()\n",
    "plt.tight_layout()\n",
    "plt.savefig('MSvsBloodG.png')"
   ]
  },
  {
   "cell_type": "markdown",
   "id": "c6d463e8-0116-47e5-9d10-98c3efc24d30",
   "metadata": {},
   "source": [
    "# Second tunning"
   ]
  },
  {
   "cell_type": "code",
   "execution_count": 50,
   "id": "a18c6689-9b0f-41d3-be00-008274d8f3f6",
   "metadata": {},
   "outputs": [
    {
     "data": {
      "text/html": [
       "<div>\n",
       "<style scoped>\n",
       "    .dataframe tbody tr th:only-of-type {\n",
       "        vertical-align: middle;\n",
       "    }\n",
       "\n",
       "    .dataframe tbody tr th {\n",
       "        vertical-align: top;\n",
       "    }\n",
       "\n",
       "    .dataframe thead th {\n",
       "        text-align: right;\n",
       "    }\n",
       "</style>\n",
       "<table border=\"1\" class=\"dataframe\">\n",
       "  <thead>\n",
       "    <tr style=\"text-align: right;\">\n",
       "      <th></th>\n",
       "      <th>Age</th>\n",
       "      <th>Sex</th>\n",
       "      <th>Marital</th>\n",
       "      <th>Income</th>\n",
       "      <th>Race</th>\n",
       "      <th>WaistCirc</th>\n",
       "      <th>BMI</th>\n",
       "      <th>Albuminuria</th>\n",
       "      <th>UrAlbCr</th>\n",
       "      <th>UricAcid</th>\n",
       "      <th>BloodGlucose</th>\n",
       "      <th>HDL</th>\n",
       "      <th>Triglycerides</th>\n",
       "    </tr>\n",
       "    <tr>\n",
       "      <th>seqn</th>\n",
       "      <th></th>\n",
       "      <th></th>\n",
       "      <th></th>\n",
       "      <th></th>\n",
       "      <th></th>\n",
       "      <th></th>\n",
       "      <th></th>\n",
       "      <th></th>\n",
       "      <th></th>\n",
       "      <th></th>\n",
       "      <th></th>\n",
       "      <th></th>\n",
       "      <th></th>\n",
       "    </tr>\n",
       "  </thead>\n",
       "  <tbody>\n",
       "    <tr>\n",
       "      <th>63211</th>\n",
       "      <td>46</td>\n",
       "      <td>Female</td>\n",
       "      <td>Married</td>\n",
       "      <td>8200.0</td>\n",
       "      <td>White</td>\n",
       "      <td>124.0</td>\n",
       "      <td>40.8</td>\n",
       "      <td>0</td>\n",
       "      <td>18.47</td>\n",
       "      <td>3.3</td>\n",
       "      <td>140</td>\n",
       "      <td>53</td>\n",
       "      <td>198</td>\n",
       "    </tr>\n",
       "    <tr>\n",
       "      <th>70548</th>\n",
       "      <td>34</td>\n",
       "      <td>Male</td>\n",
       "      <td>Separated</td>\n",
       "      <td>3500.0</td>\n",
       "      <td>MexAmerican</td>\n",
       "      <td>86.2</td>\n",
       "      <td>24.5</td>\n",
       "      <td>0</td>\n",
       "      <td>16.14</td>\n",
       "      <td>6.1</td>\n",
       "      <td>114</td>\n",
       "      <td>83</td>\n",
       "      <td>60</td>\n",
       "    </tr>\n",
       "    <tr>\n",
       "      <th>64722</th>\n",
       "      <td>33</td>\n",
       "      <td>Female</td>\n",
       "      <td>Married</td>\n",
       "      <td>3500.0</td>\n",
       "      <td>MexAmerican</td>\n",
       "      <td>75.0</td>\n",
       "      <td>25.0</td>\n",
       "      <td>0</td>\n",
       "      <td>11.54</td>\n",
       "      <td>3.4</td>\n",
       "      <td>97</td>\n",
       "      <td>44</td>\n",
       "      <td>60</td>\n",
       "    </tr>\n",
       "    <tr>\n",
       "      <th>69237</th>\n",
       "      <td>49</td>\n",
       "      <td>Female</td>\n",
       "      <td>Married</td>\n",
       "      <td>9000.0</td>\n",
       "      <td>Hispanic</td>\n",
       "      <td>95.7</td>\n",
       "      <td>33.3</td>\n",
       "      <td>0</td>\n",
       "      <td>3.81</td>\n",
       "      <td>2.7</td>\n",
       "      <td>89</td>\n",
       "      <td>51</td>\n",
       "      <td>139</td>\n",
       "    </tr>\n",
       "    <tr>\n",
       "      <th>65286</th>\n",
       "      <td>30</td>\n",
       "      <td>Male</td>\n",
       "      <td>Married</td>\n",
       "      <td>9000.0</td>\n",
       "      <td>Asian</td>\n",
       "      <td>75.7</td>\n",
       "      <td>21.9</td>\n",
       "      <td>0</td>\n",
       "      <td>7.76</td>\n",
       "      <td>7.1</td>\n",
       "      <td>81</td>\n",
       "      <td>58</td>\n",
       "      <td>394</td>\n",
       "    </tr>\n",
       "  </tbody>\n",
       "</table>\n",
       "</div>"
      ],
      "text/plain": [
       "       Age     Sex    Marital  Income         Race  WaistCirc   BMI  \\\n",
       "seqn                                                                  \n",
       "63211   46  Female    Married  8200.0        White      124.0  40.8   \n",
       "70548   34    Male  Separated  3500.0  MexAmerican       86.2  24.5   \n",
       "64722   33  Female    Married  3500.0  MexAmerican       75.0  25.0   \n",
       "69237   49  Female    Married  9000.0     Hispanic       95.7  33.3   \n",
       "65286   30    Male    Married  9000.0        Asian       75.7  21.9   \n",
       "\n",
       "       Albuminuria  UrAlbCr  UricAcid  BloodGlucose  HDL  Triglycerides  \n",
       "seqn                                                                     \n",
       "63211            0    18.47       3.3           140   53            198  \n",
       "70548            0    16.14       6.1           114   83             60  \n",
       "64722            0    11.54       3.4            97   44             60  \n",
       "69237            0     3.81       2.7            89   51            139  \n",
       "65286            0     7.76       7.1            81   58            394  "
      ]
     },
     "execution_count": 50,
     "metadata": {},
     "output_type": "execute_result"
    }
   ],
   "source": [
    "X_train.head()"
   ]
  },
  {
   "cell_type": "markdown",
   "id": "6ff3a68f-4c73-4078-a190-e80e2e4159ad",
   "metadata": {},
   "source": [
    "## correlation filtering"
   ]
  },
  {
   "cell_type": "code",
   "execution_count": 77,
   "id": "32f83c6b-d394-4f66-8298-246c45228260",
   "metadata": {},
   "outputs": [],
   "source": [
    "from collinearity import SelectNonCollinear\n",
    "from sklearn.feature_selection import f_classif\n",
    "# from sklearn.feature_selection import f_regression\n",
    "\n",
    "# Instantiate the selector, indicate theshold for r, also include the appropriate scoring metric for the task\n",
    "selector = SelectNonCollinear(correlation_threshold = 0.75, scoring = f_classif)\n",
    "\n",
    "# Fit on the training data, use .values (.vlues cause arrays)\n",
    "selector.fit(X_train_tf.values, y_train.values)\n",
    "\n",
    "# Define a mask for filtering\n",
    "non_collinear = selector.get_support()\n",
    "\n",
    "# non_collinear[:-1]"
   ]
  },
  {
   "cell_type": "code",
   "execution_count": 76,
   "id": "790a1e2e-fd36-43c1-9e20-bf5c31808f2a",
   "metadata": {},
   "outputs": [],
   "source": [
    "# Make the T/F a series with the column names as the index\n",
    "non_collinear_series = pd.Series(selector.get_support(), index=X_train_tf.columns)"
   ]
  },
  {
   "cell_type": "code",
   "execution_count": 65,
   "id": "7c90f143-4c65-470d-8c7a-0c9f135c8465",
   "metadata": {},
   "outputs": [
    {
     "data": {
      "text/plain": [
       "(20,)"
      ]
     },
     "execution_count": 65,
     "metadata": {},
     "output_type": "execute_result"
    }
   ],
   "source": [
    "non_collinear_series.shape"
   ]
  },
  {
   "cell_type": "code",
   "execution_count": 60,
   "id": "7c6cee18-d910-4675-87c2-53b8dae42932",
   "metadata": {},
   "outputs": [],
   "source": [
    "# Filter training data\n",
    "training_data_to_keep = X_train_tf.values[:, non_collinear]\n",
    "\n",
    "\n",
    "# Filter column names\n",
    "columns = np.array(X_train_tf.columns)[non_collinear]\n",
    "\n",
    "# Make traing data into a dataframe\n",
    "X_train_no_corr = pd.DataFrame(training_data_to_keep, columns = columns)\n",
    "\n",
    "# Filter testing data\n",
    "test_data_to_keep = X_test_tf.values[:, non_collinear]\n",
    "# Make test data into a dataframe\n",
    "X_test_no_corr = pd.DataFrame(test_data_to_keep, columns = columns)"
   ]
  },
  {
   "cell_type": "code",
   "execution_count": 61,
   "id": "b02e59c5-ce43-4390-a1ec-118377450944",
   "metadata": {},
   "outputs": [
    {
     "data": {
      "text/html": [
       "<div>\n",
       "<style scoped>\n",
       "    .dataframe tbody tr th:only-of-type {\n",
       "        vertical-align: middle;\n",
       "    }\n",
       "\n",
       "    .dataframe tbody tr th {\n",
       "        vertical-align: top;\n",
       "    }\n",
       "\n",
       "    .dataframe thead th {\n",
       "        text-align: right;\n",
       "    }\n",
       "</style>\n",
       "<table border=\"1\" class=\"dataframe\">\n",
       "  <thead>\n",
       "    <tr style=\"text-align: right;\">\n",
       "      <th></th>\n",
       "      <th>Age</th>\n",
       "      <th>Income</th>\n",
       "      <th>WaistCirc</th>\n",
       "      <th>Albuminuria</th>\n",
       "      <th>UrAlbCr</th>\n",
       "      <th>UricAcid</th>\n",
       "      <th>BloodGlucose</th>\n",
       "      <th>HDL</th>\n",
       "      <th>Triglycerides</th>\n",
       "      <th>Sex_Male</th>\n",
       "      <th>Marital_Married</th>\n",
       "      <th>Marital_Separated</th>\n",
       "      <th>Marital_Single</th>\n",
       "      <th>Marital_Widowed</th>\n",
       "      <th>Race_Black</th>\n",
       "      <th>Race_Hispanic</th>\n",
       "      <th>Race_MexAmerican</th>\n",
       "      <th>Race_Other</th>\n",
       "      <th>Race_White</th>\n",
       "    </tr>\n",
       "  </thead>\n",
       "  <tbody>\n",
       "    <tr>\n",
       "      <th>0</th>\n",
       "      <td>-0.176875</td>\n",
       "      <td>1.443579</td>\n",
       "      <td>1.591313</td>\n",
       "      <td>-0.366397</td>\n",
       "      <td>-0.100646</td>\n",
       "      <td>-1.503810</td>\n",
       "      <td>0.962189</td>\n",
       "      <td>-0.045041</td>\n",
       "      <td>0.728110</td>\n",
       "      <td>0.0</td>\n",
       "      <td>1.0</td>\n",
       "      <td>0.0</td>\n",
       "      <td>0.0</td>\n",
       "      <td>0.0</td>\n",
       "      <td>0.0</td>\n",
       "      <td>0.0</td>\n",
       "      <td>0.0</td>\n",
       "      <td>0.0</td>\n",
       "      <td>1.0</td>\n",
       "    </tr>\n",
       "    <tr>\n",
       "      <th>1</th>\n",
       "      <td>-0.857407</td>\n",
       "      <td>-0.165173</td>\n",
       "      <td>-0.767163</td>\n",
       "      <td>-0.366397</td>\n",
       "      <td>-0.108892</td>\n",
       "      <td>0.406271</td>\n",
       "      <td>0.185052</td>\n",
       "      <td>1.929154</td>\n",
       "      <td>-0.704544</td>\n",
       "      <td>1.0</td>\n",
       "      <td>0.0</td>\n",
       "      <td>1.0</td>\n",
       "      <td>0.0</td>\n",
       "      <td>0.0</td>\n",
       "      <td>0.0</td>\n",
       "      <td>0.0</td>\n",
       "      <td>1.0</td>\n",
       "      <td>0.0</td>\n",
       "      <td>0.0</td>\n",
       "    </tr>\n",
       "    <tr>\n",
       "      <th>2</th>\n",
       "      <td>-0.914117</td>\n",
       "      <td>-0.165173</td>\n",
       "      <td>-1.465971</td>\n",
       "      <td>-0.366397</td>\n",
       "      <td>-0.125171</td>\n",
       "      <td>-1.435593</td>\n",
       "      <td>-0.323077</td>\n",
       "      <td>-0.637299</td>\n",
       "      <td>-0.704544</td>\n",
       "      <td>0.0</td>\n",
       "      <td>1.0</td>\n",
       "      <td>0.0</td>\n",
       "      <td>0.0</td>\n",
       "      <td>0.0</td>\n",
       "      <td>0.0</td>\n",
       "      <td>0.0</td>\n",
       "      <td>1.0</td>\n",
       "      <td>0.0</td>\n",
       "      <td>0.0</td>\n",
       "    </tr>\n",
       "    <tr>\n",
       "      <th>3</th>\n",
       "      <td>-0.006742</td>\n",
       "      <td>1.717409</td>\n",
       "      <td>-0.174425</td>\n",
       "      <td>-0.366397</td>\n",
       "      <td>-0.152526</td>\n",
       "      <td>-1.913113</td>\n",
       "      <td>-0.562196</td>\n",
       "      <td>-0.176654</td>\n",
       "      <td>0.115599</td>\n",
       "      <td>0.0</td>\n",
       "      <td>1.0</td>\n",
       "      <td>0.0</td>\n",
       "      <td>0.0</td>\n",
       "      <td>0.0</td>\n",
       "      <td>0.0</td>\n",
       "      <td>1.0</td>\n",
       "      <td>0.0</td>\n",
       "      <td>0.0</td>\n",
       "      <td>0.0</td>\n",
       "    </tr>\n",
       "    <tr>\n",
       "      <th>4</th>\n",
       "      <td>-1.084250</td>\n",
       "      <td>1.717409</td>\n",
       "      <td>-1.422296</td>\n",
       "      <td>-0.366397</td>\n",
       "      <td>-0.138548</td>\n",
       "      <td>1.088443</td>\n",
       "      <td>-0.801315</td>\n",
       "      <td>0.283992</td>\n",
       "      <td>2.762893</td>\n",
       "      <td>1.0</td>\n",
       "      <td>1.0</td>\n",
       "      <td>0.0</td>\n",
       "      <td>0.0</td>\n",
       "      <td>0.0</td>\n",
       "      <td>0.0</td>\n",
       "      <td>0.0</td>\n",
       "      <td>0.0</td>\n",
       "      <td>0.0</td>\n",
       "      <td>0.0</td>\n",
       "    </tr>\n",
       "  </tbody>\n",
       "</table>\n",
       "</div>"
      ],
      "text/plain": [
       "        Age    Income  WaistCirc  Albuminuria   UrAlbCr  UricAcid  \\\n",
       "0 -0.176875  1.443579   1.591313    -0.366397 -0.100646 -1.503810   \n",
       "1 -0.857407 -0.165173  -0.767163    -0.366397 -0.108892  0.406271   \n",
       "2 -0.914117 -0.165173  -1.465971    -0.366397 -0.125171 -1.435593   \n",
       "3 -0.006742  1.717409  -0.174425    -0.366397 -0.152526 -1.913113   \n",
       "4 -1.084250  1.717409  -1.422296    -0.366397 -0.138548  1.088443   \n",
       "\n",
       "   BloodGlucose       HDL  Triglycerides  Sex_Male  Marital_Married  \\\n",
       "0      0.962189 -0.045041       0.728110       0.0              1.0   \n",
       "1      0.185052  1.929154      -0.704544       1.0              0.0   \n",
       "2     -0.323077 -0.637299      -0.704544       0.0              1.0   \n",
       "3     -0.562196 -0.176654       0.115599       0.0              1.0   \n",
       "4     -0.801315  0.283992       2.762893       1.0              1.0   \n",
       "\n",
       "   Marital_Separated  Marital_Single  Marital_Widowed  Race_Black  \\\n",
       "0                0.0             0.0              0.0         0.0   \n",
       "1                1.0             0.0              0.0         0.0   \n",
       "2                0.0             0.0              0.0         0.0   \n",
       "3                0.0             0.0              0.0         0.0   \n",
       "4                0.0             0.0              0.0         0.0   \n",
       "\n",
       "   Race_Hispanic  Race_MexAmerican  Race_Other  Race_White  \n",
       "0            0.0               0.0         0.0         1.0  \n",
       "1            0.0               1.0         0.0         0.0  \n",
       "2            0.0               1.0         0.0         0.0  \n",
       "3            1.0               0.0         0.0         0.0  \n",
       "4            0.0               0.0         0.0         0.0  "
      ]
     },
     "execution_count": 61,
     "metadata": {},
     "output_type": "execute_result"
    }
   ],
   "source": [
    "X_train_no_corr.head()"
   ]
  },
  {
   "cell_type": "code",
   "execution_count": 78,
   "id": "a4918e06-7236-42cb-b7fe-a1d773647e24",
   "metadata": {},
   "outputs": [],
   "source": [
    "# X_test_no_corr.head()"
   ]
  },
  {
   "cell_type": "code",
   "execution_count": 79,
   "id": "36e5d106-0c7e-47e9-9ef3-772e499bb61c",
   "metadata": {},
   "outputs": [
    {
     "data": {
      "text/plain": [
       "(1800, 19)"
      ]
     },
     "execution_count": 79,
     "metadata": {},
     "output_type": "execute_result"
    }
   ],
   "source": [
    "X_train_no_corr.shape"
   ]
  },
  {
   "cell_type": "code",
   "execution_count": 80,
   "id": "5c39e82c-a92f-4432-97c4-8679ff0a81e5",
   "metadata": {},
   "outputs": [
    {
     "data": {
      "text/plain": [
       "(1800, 20)"
      ]
     },
     "execution_count": 80,
     "metadata": {},
     "output_type": "execute_result"
    }
   ],
   "source": [
    "X_train_tf.shape"
   ]
  },
  {
   "cell_type": "code",
   "execution_count": 81,
   "id": "19056c4f-e534-442a-bc35-33553f78e38d",
   "metadata": {},
   "outputs": [
    {
     "data": {
      "text/plain": [
       "{'BMI'}"
      ]
     },
     "execution_count": 81,
     "metadata": {},
     "output_type": "execute_result"
    }
   ],
   "source": [
    "diff = set(X_train_tf.columns) - set(X_train_no_corr.columns)\n",
    "diff"
   ]
  },
  {
   "cell_type": "markdown",
   "id": "e4faf928-f507-40ec-94fc-0a68e6e08677",
   "metadata": {},
   "source": [
    "---\n",
    "\n",
    "this filtering has filtered out Body Mass Index, which was the 7th most permutated important feature in our previous tuned model\n",
    "\n",
    "---"
   ]
  },
  {
   "cell_type": "markdown",
   "id": "a9229a4a-4e0e-4dab-88b9-64e62b82b1f0",
   "metadata": {},
   "source": [
    "## PCA"
   ]
  },
  {
   "cell_type": "code",
   "execution_count": 82,
   "id": "19e4316c-7683-4210-82c2-2f230183fe6a",
   "metadata": {},
   "outputs": [
    {
     "data": {
      "text/plain": [
       "0.9561432803954507"
      ]
     },
     "execution_count": 82,
     "metadata": {},
     "output_type": "execute_result"
    }
   ],
   "source": [
    "pca = PCA(n_components=0.95)\n",
    "X_train_pca = pca.fit_transform(X_train_no_corr)\n",
    "X_test_pca = pca.transform(X_test_no_corr)\n",
    "\n",
    "pca.explained_variance_ratio_.sum()"
   ]
  },
  {
   "cell_type": "markdown",
   "id": "6e985607-b4f5-42e8-9272-0073263f288d",
   "metadata": {},
   "source": [
    "# NEW KNN MODEL USING filtered PCAs"
   ]
  },
  {
   "cell_type": "code",
   "execution_count": null,
   "id": "11f3bc46-fbc3-45fe-83d5-b091d674f081",
   "metadata": {},
   "outputs": [],
   "source": []
  }
 ],
 "metadata": {
  "kernelspec": {
   "display_name": "Python 3 (ipykernel)",
   "language": "python",
   "name": "python3"
  },
  "language_info": {
   "codemirror_mode": {
    "name": "ipython",
    "version": 3
   },
   "file_extension": ".py",
   "mimetype": "text/x-python",
   "name": "python",
   "nbconvert_exporter": "python",
   "pygments_lexer": "ipython3",
   "version": "3.10.10"
  },
  "widgets": {
   "application/vnd.jupyter.widget-state+json": {
    "state": {},
    "version_major": 2,
    "version_minor": 0
   }
  }
 },
 "nbformat": 4,
 "nbformat_minor": 5
}
